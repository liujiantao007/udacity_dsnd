{
 "cells": [
  {
   "cell_type": "markdown",
   "metadata": {},
   "source": [
    "## Notebook looking at the need to rebalance data set for building models"
   ]
  },
  {
   "cell_type": "code",
   "execution_count": 1,
   "metadata": {},
   "outputs": [
    {
     "name": "stdout",
     "output_type": "stream",
     "text": [
      "+------+-----------+------+-------------+-------------+----------------+-------------------+-----------------+-----------------------+------------------+--------------------+-----+----------+---------------+------+-------------------------+---------+-----+----+----+------+--------+-----------+-------------+--------+----------------+--------------+-----------+---------+-------+-----------------+----------------+----------------------+-------------+\n",
      "|UserId|UserTimeBin|Gender|PaidInTimeBin|FreeInTimeBin|ChurnedInTimeBin|DowngradedInTimeBin|UpgradedInTimeBin|DaysRegisteredAtTimeBin|WillChurnInNextBin|PreviouslyDowngraded|About|Add Friend|Add to Playlist|Cancel|Cancellation Confirmation|Downgrade|Error|Help|Home|Logout|NextSong|Roll Advert|Save Settings|Settings|Submit Downgrade|Submit Upgrade|Thumbs Down|Thumbs Up|Upgrade|SessionsInTimeBin|ArtistsInTimeBin|DistinctSongsInTimeBin|WillChurnSoon|\n",
      "+------+-----------+------+-------------+-------------+----------------+-------------------+-----------------+-----------------------+------------------+--------------------+-----+----------+---------------+------+-------------------------+---------+-----+----+----+------+--------+-----------+-------------+--------+----------------+--------------+-----------+---------+-------+-----------------+----------------+----------------------+-------------+\n",
      "|   113|          4|     0|            1|            1|               0|                  0|                1|                     63|                 0|                   0|    0|         5|              2|     0|                        0|        1|    0|   0|   8|     0|      88|          1|            1|       1|               0|             1|          2|        5|      4|                3|              85|                    87|            0|\n",
      "|300002|          7|     0|            1|            0|               0|                  0|                0|                     98|                 0|                   1|    0|         9|             19|     0|                        0|        3|    0|   5|  15|     4|     470|          0|            0|       2|               0|             0|          4|       29|      0|                5|             390|                   445|            0|\n",
      "|    69|          1|     0|            1|            1|               0|                  0|                1|                     20|                 0|                   0|    0|         4|              2|     0|                        0|        0|    0|   2|   4|     1|     120|          2|            0|       1|               0|             1|          1|        6|      1|                2|             112|                   119|            0|\n",
      "+------+-----------+------+-------------+-------------+----------------+-------------------+-----------------+-----------------------+------------------+--------------------+-----+----------+---------------+------+-------------------------+---------+-----+----+----+------+--------+-----------+-------------+--------+----------------+--------------+-----------+---------+-------+-----------------+----------------+----------------------+-------------+\n",
      "only showing top 3 rows\n",
      "\n"
     ]
    }
   ],
   "source": [
    "import data_engineering as de\n",
    "df = de.main()\n",
    "df.show(n=3)"
   ]
  },
  {
   "cell_type": "code",
   "execution_count": 16,
   "metadata": {},
   "outputs": [
    {
     "name": "stdout",
     "output_type": "stream",
     "text": [
      "root\n",
      " |-- UserId: integer (nullable = true)\n",
      " |-- UserTimeBin: integer (nullable = true)\n",
      " |-- Gender: integer (nullable = true)\n",
      " |-- PaidInTimeBin: integer (nullable = true)\n",
      " |-- FreeInTimeBin: integer (nullable = true)\n",
      " |-- ChurnedInTimeBin: integer (nullable = true)\n",
      " |-- DowngradedInTimeBin: integer (nullable = true)\n",
      " |-- UpgradedInTimeBin: integer (nullable = true)\n",
      " |-- DaysRegisteredAtTimeBin: integer (nullable = true)\n",
      " |-- WillChurnInNextBin: integer (nullable = true)\n",
      " |-- PreviouslyDowngraded: integer (nullable = true)\n",
      " |-- About: integer (nullable = true)\n",
      " |-- Add Friend: integer (nullable = true)\n",
      " |-- Add to Playlist: integer (nullable = true)\n",
      " |-- Cancel: integer (nullable = true)\n",
      " |-- Cancellation Confirmation: integer (nullable = true)\n",
      " |-- Downgrade: integer (nullable = true)\n",
      " |-- Error: integer (nullable = true)\n",
      " |-- Help: integer (nullable = true)\n",
      " |-- Home: integer (nullable = true)\n",
      " |-- Logout: integer (nullable = true)\n",
      " |-- NextSong: integer (nullable = true)\n",
      " |-- Roll Advert: integer (nullable = true)\n",
      " |-- Save Settings: integer (nullable = true)\n",
      " |-- Settings: integer (nullable = true)\n",
      " |-- Submit Downgrade: integer (nullable = true)\n",
      " |-- Submit Upgrade: integer (nullable = true)\n",
      " |-- Thumbs Down: integer (nullable = true)\n",
      " |-- Thumbs Up: integer (nullable = true)\n",
      " |-- Upgrade: integer (nullable = true)\n",
      " |-- SessionsInTimeBin: integer (nullable = false)\n",
      " |-- ArtistsInTimeBin: integer (nullable = false)\n",
      " |-- DistinctSongsInTimeBin: integer (nullable = false)\n",
      " |-- WillChurnSoon: integer (nullable = true)\n",
      "\n"
     ]
    }
   ],
   "source": [
    "df.printSchema()"
   ]
  },
  {
   "cell_type": "markdown",
   "metadata": {},
   "source": [
    "### Look at distribution of labels we can use to make predictions on"
   ]
  },
  {
   "cell_type": "code",
   "execution_count": 2,
   "metadata": {},
   "outputs": [
    {
     "name": "stdout",
     "output_type": "stream",
     "text": [
      "+----------------+-----+\n",
      "|ChurnedInTimeBin|count|\n",
      "+----------------+-----+\n",
      "|               1|   52|\n",
      "|               0|  809|\n",
      "+----------------+-----+\n",
      "\n",
      "+------------------+-----+\n",
      "|WillChurnInNextBin|count|\n",
      "+------------------+-----+\n",
      "|                 1|   39|\n",
      "|                 0|  822|\n",
      "+------------------+-----+\n",
      "\n",
      "+-------------+-----+\n",
      "|WillChurnSoon|count|\n",
      "+-------------+-----+\n",
      "|            1|   91|\n",
      "|            0|  770|\n",
      "+-------------+-----+\n",
      "\n"
     ]
    }
   ],
   "source": [
    "df.groupBy('ChurnedInTimeBin').count().show()\n",
    "df.groupBy('WillChurnInNextBin').count().show()\n",
    "df.groupBy('WillChurnSoon').count().show()"
   ]
  },
  {
   "cell_type": "code",
   "execution_count": 3,
   "metadata": {},
   "outputs": [
    {
     "name": "stdout",
     "output_type": "stream",
     "text": [
      "+------+-----------+------+-------------+-------------+-----+-------------------+-----------------+-----------------------+------------------+--------------------+-----+----------+---------------+------+-------------------------+---------+-----+----+----+------+--------+-----------+-------------+--------+----------------+--------------+-----------+---------+-------+-----------------+----------------+----------------------+-------------+--------------------+\n",
      "|UserId|UserTimeBin|Gender|PaidInTimeBin|FreeInTimeBin|label|DowngradedInTimeBin|UpgradedInTimeBin|DaysRegisteredAtTimeBin|WillChurnInNextBin|PreviouslyDowngraded|About|Add Friend|Add to Playlist|Cancel|Cancellation Confirmation|Downgrade|Error|Help|Home|Logout|NextSong|Roll Advert|Save Settings|Settings|Submit Downgrade|Submit Upgrade|Thumbs Down|Thumbs Up|Upgrade|SessionsInTimeBin|ArtistsInTimeBin|DistinctSongsInTimeBin|WillChurnSoon|            features|\n",
      "+------+-----------+------+-------------+-------------+-----+-------------------+-----------------+-----------------------+------------------+--------------------+-----+----------+---------------+------+-------------------------+---------+-----+----+----+------+--------+-----------+-------------+--------+----------------+--------------+-----------+---------+-------+-----------------+----------------+----------------------+-------------+--------------------+\n",
      "|   113|          4|     0|            1|            1|    0|                  0|                1|                     63|                 0|                   0|    0|         5|              2|     0|                        0|        1|    0|   0|   8|     0|      88|          1|            1|       1|               0|             1|          2|        5|      4|                3|              85|                    87|            0|[4.0,0.0,1.0,1.0,...|\n",
      "|300002|          7|     0|            1|            0|    0|                  0|                0|                     98|                 0|                   1|    0|         9|             19|     0|                        0|        3|    0|   5|  15|     4|     470|          0|            0|       2|               0|             0|          4|       29|      0|                5|             390|                   445|            0|[7.0,0.0,1.0,0.0,...|\n",
      "|    69|          1|     0|            1|            1|    0|                  0|                1|                     20|                 0|                   0|    0|         4|              2|     0|                        0|        0|    0|   2|   4|     1|     120|          2|            0|       1|               0|             1|          1|        6|      1|                2|             112|                   119|            0|[1.0,0.0,1.0,1.0,...|\n",
      "|   109|          5|     0|            1|            0|    0|                  0|                0|                     70|                 0|                   0|    1|         8|             11|     0|                        0|        5|    0|   7|  11|     5|     363|          0|            0|       2|               0|             0|          2|       14|      0|                3|             323|                   360|            0|[5.0,0.0,1.0,0.0,...|\n",
      "|   134|          1|     1|            0|            1|    0|                  0|                0|                     15|                 0|                   0|    0|         0|              0|     0|                        0|        0|    0|   0|   0|     1|      12|          2|            0|       0|               0|             0|          0|        1|      0|                1|              12|                    12|            0|(25,[0,1,3,14,15,...|\n",
      "|200011|          5|     1|            0|            1|    0|                  0|                0|                     78|                 0|                   0|    0|         1|              0|     0|                        0|        0|    0|   1|   3|     1|      32|          1|            0|       0|               0|             0|          1|        1|      0|                1|              32|                    32|            0|(25,[0,1,3,8,12,1...|\n",
      "|300006|          4|     1|            0|            1|    0|                  0|                0|                     60|                 0|                   0|    1|         1|              3|     0|                        0|        0|    0|   1|   6|     3|      83|          9|            0|       0|               0|             0|          0|       12|      1|                2|              80|                    82|            0|[4.0,1.0,0.0,1.0,...|\n",
      "|    99|          8|     0|            1|            0|    0|                  0|                0|                    112|                 0|                   0|    0|         4|              0|     0|                        0|        0|    0|   0|   2|     1|      87|          0|            0|       1|               0|             0|          0|        3|      0|                3|              81|                    86|            0|(25,[0,2,8,13,14,...|\n",
      "|    93|          4|     1|            1|            1|    0|                  0|                1|                     56|                 0|                   0|    1|         8|             11|     0|                        0|        2|    0|   6|  15|     6|     299|         16|            1|       4|               0|             1|          2|       20|      2|                7|             259|                   287|            0|[4.0,1.0,1.0,1.0,...|\n",
      "|   114|          4|     1|            1|            0|    0|                  0|                0|                     56|                 0|                   0|    2|         7|             18|     0|                        0|        4|    2|   4|  29|     3|     643|          0|            0|       2|               0|             0|          6|       32|      0|                5|             534|                   610|            0|[4.0,1.0,1.0,0.0,...|\n",
      "+------+-----------+------+-------------+-------------+-----+-------------------+-----------------+-----------------------+------------------+--------------------+-----+----------+---------------+------+-------------------------+---------+-----+----+----+------+--------+-----------+-------------+--------+----------------+--------------+-----------+---------+-------+-----------------+----------------+----------------------+-------------+--------------------+\n",
      "only showing top 10 rows\n",
      "\n"
     ]
    }
   ],
   "source": [
    "from pyspark.ml.feature import VectorAssembler\n",
    "\n",
    "sel_cols = [\"UserTimeBin\", \"Gender\", \"PaidInTimeBin\", \"FreeInTimeBin\", \"DowngradedInTimeBin\", \"UpgradedInTimeBin\", \n",
    "            \"PreviouslyDowngraded\", \"About\", \"Add Friend\", \"Add to Playlist\", \"Downgrade\", \"Error\", \"Help\", \"Home\", \"Logout\", \n",
    "            \"NextSong\", \"Roll Advert\", \"Save Settings\", \"Settings\", \"Thumbs Down\", \"Thumbs Up\", \"Upgrade\", \"SessionsInTimeBin\", \n",
    "            \"ArtistsInTimeBin\", \"DistinctSongsInTimeBin\"]\n",
    "assembler = VectorAssembler(inputCols = sel_cols,\n",
    "                            outputCol = \"features\")\n",
    "\n",
    "dataset = assembler.transform(df)\n",
    "dataset = dataset.withColumnRenamed(\"ChurnedInTimeBin\", \"label\")\n",
    "dataset.show(n=10)"
   ]
  },
  {
   "cell_type": "code",
   "execution_count": 4,
   "metadata": {},
   "outputs": [
    {
     "data": {
      "text/plain": [
       "[Row(features=DenseVector([4.0, 0.0, 1.0, 1.0, 0.0, 1.0, 0.0, 0.0, 5.0, 2.0, 1.0, 0.0, 0.0, 8.0, 0.0, 88.0, 1.0, 1.0, 1.0, 2.0, 5.0, 4.0, 3.0, 85.0, 87.0])),\n",
       " Row(features=DenseVector([7.0, 0.0, 1.0, 0.0, 0.0, 0.0, 1.0, 0.0, 9.0, 19.0, 3.0, 0.0, 5.0, 15.0, 4.0, 470.0, 0.0, 0.0, 2.0, 4.0, 29.0, 0.0, 5.0, 390.0, 445.0])),\n",
       " Row(features=DenseVector([1.0, 0.0, 1.0, 1.0, 0.0, 1.0, 0.0, 0.0, 4.0, 2.0, 0.0, 0.0, 2.0, 4.0, 1.0, 120.0, 2.0, 0.0, 1.0, 1.0, 6.0, 1.0, 2.0, 112.0, 119.0])),\n",
       " Row(features=DenseVector([5.0, 0.0, 1.0, 0.0, 0.0, 0.0, 0.0, 1.0, 8.0, 11.0, 5.0, 0.0, 7.0, 11.0, 5.0, 363.0, 0.0, 0.0, 2.0, 2.0, 14.0, 0.0, 3.0, 323.0, 360.0])),\n",
       " Row(features=SparseVector(25, {0: 1.0, 1: 1.0, 3: 1.0, 14: 1.0, 15: 12.0, 16: 2.0, 20: 1.0, 22: 1.0, 23: 12.0, 24: 12.0})),\n",
       " Row(features=SparseVector(25, {0: 5.0, 1: 1.0, 3: 1.0, 8: 1.0, 12: 1.0, 13: 3.0, 14: 1.0, 15: 32.0, 16: 1.0, 19: 1.0, 20: 1.0, 22: 1.0, 23: 32.0, 24: 32.0})),\n",
       " Row(features=DenseVector([4.0, 1.0, 0.0, 1.0, 0.0, 0.0, 0.0, 1.0, 1.0, 3.0, 0.0, 0.0, 1.0, 6.0, 3.0, 83.0, 9.0, 0.0, 0.0, 0.0, 12.0, 1.0, 2.0, 80.0, 82.0])),\n",
       " Row(features=SparseVector(25, {0: 8.0, 2: 1.0, 8: 4.0, 13: 2.0, 14: 1.0, 15: 87.0, 18: 1.0, 20: 3.0, 22: 3.0, 23: 81.0, 24: 86.0})),\n",
       " Row(features=DenseVector([4.0, 1.0, 1.0, 1.0, 0.0, 1.0, 0.0, 1.0, 8.0, 11.0, 2.0, 0.0, 6.0, 15.0, 6.0, 299.0, 16.0, 1.0, 4.0, 2.0, 20.0, 2.0, 7.0, 259.0, 287.0])),\n",
       " Row(features=DenseVector([4.0, 1.0, 1.0, 0.0, 0.0, 0.0, 0.0, 2.0, 7.0, 18.0, 4.0, 2.0, 4.0, 29.0, 3.0, 643.0, 0.0, 0.0, 2.0, 6.0, 32.0, 0.0, 5.0, 534.0, 610.0]))]"
      ]
     },
     "execution_count": 4,
     "metadata": {},
     "output_type": "execute_result"
    }
   ],
   "source": [
    "dataset.select('features').take(10) # Does it matter that this is a mix of dense and sparse vectors? It doesn't appear to impact anything in pyspark"
   ]
  },
  {
   "cell_type": "markdown",
   "metadata": {},
   "source": [
    "## Build RF models predicting the above labels and compare AUCs with/without sampling"
   ]
  },
  {
   "cell_type": "code",
   "execution_count": 5,
   "metadata": {},
   "outputs": [
    {
     "name": "stdout",
     "output_type": "stream",
     "text": [
      "+-----+----------+--------------------+------+-----------+\n",
      "|label|prediction|         probability|UserId|UserTimeBin|\n",
      "+-----+----------+--------------------+------+-----------+\n",
      "|    0|       0.0|[0.91583971938762...|   113|          4|\n",
      "|    0|       0.0|[0.96450387420027...|    99|          8|\n",
      "|    0|       0.0|[0.93657567928760...|   109|          5|\n",
      "|    0|       0.0|[0.97050172633964...|    93|          4|\n",
      "|    0|       0.0|[0.95368187592655...|100012|          1|\n",
      "|    0|       0.0|[0.96370090304532...|     4|          0|\n",
      "|    0|       0.0|[0.98749979136031...|   140|          5|\n",
      "|    0|       0.0|[0.95461992073648...|   102|          1|\n",
      "|    0|       0.0|[0.96949190205362...|    86|          9|\n",
      "|    0|       0.0|[0.95297990135016...|    30|          1|\n",
      "+-----+----------+--------------------+------+-----------+\n",
      "only showing top 10 rows\n",
      "\n"
     ]
    }
   ],
   "source": [
    "(trainingData, testData) = dataset.randomSplit([0.8, 0.2], seed = 147309)\n",
    "\n",
    "from pyspark.ml.classification import RandomForestClassifier\n",
    "\n",
    "rf = RandomForestClassifier(labelCol=\"label\", featuresCol=\"features\")\n",
    "rfModel = rf.fit(trainingData)\n",
    "\n",
    "predictions = rfModel.transform(testData)\n",
    "selected = predictions.select(\"label\", \"prediction\", \"probability\", \"UserId\", \"UserTimeBin\")\n",
    "\n",
    "selected.show(n=10)"
   ]
  },
  {
   "cell_type": "code",
   "execution_count": 6,
   "metadata": {},
   "outputs": [
    {
     "data": {
      "text/plain": [
       "0.09157566283033391"
      ]
     },
     "execution_count": 6,
     "metadata": {},
     "output_type": "execute_result"
    }
   ],
   "source": [
    "from pyspark.ml.evaluation import BinaryClassificationEvaluator\n",
    "\n",
    "evaluator = BinaryClassificationEvaluator()\n",
    "evaluator.evaluate(predictions, {evaluator.metricName: \"areaUnderPR\"})"
   ]
  },
  {
   "cell_type": "code",
   "execution_count": 7,
   "metadata": {},
   "outputs": [
    {
     "data": {
      "text/plain": [
       "0.6203431372549021"
      ]
     },
     "execution_count": 7,
     "metadata": {},
     "output_type": "execute_result"
    }
   ],
   "source": [
    "evaluator.evaluate(predictions, {evaluator.metricName: \"areaUnderROC\"})"
   ]
  },
  {
   "cell_type": "code",
   "execution_count": 8,
   "metadata": {},
   "outputs": [
    {
     "name": "stdout",
     "output_type": "stream",
     "text": [
      "+-----+-----+\n",
      "|label|count|\n",
      "+-----+-----+\n",
      "|    1|   52|\n",
      "|    0|   44|\n",
      "+-----+-----+\n",
      "\n"
     ]
    }
   ],
   "source": [
    "# Sample to deal with class imbalance problem\n",
    "stratified_data = dataset.sampleBy('label', fractions={0: 0.065, 1: 1.0}).cache()\n",
    "stratified_data.groupby('label').count().show()"
   ]
  },
  {
   "cell_type": "code",
   "execution_count": 9,
   "metadata": {},
   "outputs": [
    {
     "name": "stdout",
     "output_type": "stream",
     "text": [
      "+-----+----------+--------------------+------+-----------+\n",
      "|label|prediction|         probability|UserId|UserTimeBin|\n",
      "+-----+----------+--------------------+------+-----------+\n",
      "|    0|       1.0|[0.44101446492575...|   143|          3|\n",
      "|    1|       0.0|[0.58067460317460...|300001|         13|\n",
      "|    1|       1.0|[0.36041264291264...|200017|          4|\n",
      "|    1|       1.0|[0.16587301587301...|300007|          0|\n",
      "|    1|       1.0|[0.42179181929181...|200011|          7|\n",
      "|    1|       0.0|[0.56007591093117...|200016|          3|\n",
      "|    1|       0.0|[0.61805153180153...|   125|          5|\n",
      "|    0|       0.0|[0.51407871347913...|    60|          4|\n",
      "|    1|       1.0|[0.28493284493284...|100022|          3|\n",
      "|    0|       0.0|[0.71807795698924...|    65|          2|\n",
      "+-----+----------+--------------------+------+-----------+\n",
      "only showing top 10 rows\n",
      "\n"
     ]
    }
   ],
   "source": [
    "(trainingData, testData) = stratified_data.randomSplit([0.8, 0.2], seed = 147309)\n",
    "\n",
    "from pyspark.ml.classification import RandomForestClassifier\n",
    "\n",
    "rf = RandomForestClassifier(labelCol=\"label\", featuresCol=\"features\")\n",
    "rfModel = rf.fit(trainingData)\n",
    "\n",
    "predictions = rfModel.transform(testData)\n",
    "selected = predictions.select(\"label\", \"prediction\", \"probability\", \"UserId\", \"UserTimeBin\")\n",
    "\n",
    "selected.show(n=10)"
   ]
  },
  {
   "cell_type": "code",
   "execution_count": 10,
   "metadata": {},
   "outputs": [
    {
     "data": {
      "text/plain": [
       "0.612342595675929"
      ]
     },
     "execution_count": 10,
     "metadata": {},
     "output_type": "execute_result"
    }
   ],
   "source": [
    "from pyspark.ml.evaluation import BinaryClassificationEvaluator\n",
    "\n",
    "evaluator = BinaryClassificationEvaluator()\n",
    "evaluator.evaluate(predictions, {evaluator.metricName: \"areaUnderPR\"})"
   ]
  },
  {
   "cell_type": "markdown",
   "metadata": {},
   "source": [
    "### Improved by rebalancing"
   ]
  },
  {
   "cell_type": "code",
   "execution_count": 12,
   "metadata": {},
   "outputs": [
    {
     "data": {
      "text/plain": [
       "0.5079365079365079"
      ]
     },
     "execution_count": 12,
     "metadata": {},
     "output_type": "execute_result"
    }
   ],
   "source": [
    "evaluator.evaluate(predictions, {evaluator.metricName: \"areaUnderROC\"})"
   ]
  },
  {
   "cell_type": "code",
   "execution_count": 13,
   "metadata": {},
   "outputs": [
    {
     "name": "stdout",
     "output_type": "stream",
     "text": [
      "Imbalanced AUC PR:  0.07208510161588808\n",
      "Imbalanced AUC ROC:  0.5563530037214244\n",
      "Rebalncing, and re-running...\n",
      "+-----+-----+\n",
      "|label|count|\n",
      "+-----+-----+\n",
      "|    1|   39|\n",
      "|    0|   38|\n",
      "+-----+-----+\n",
      "\n",
      "Balanced AUC PR:  0.7719561688311689\n",
      "Balanced AUC ROC:  0.78125\n"
     ]
    }
   ],
   "source": [
    "# Now look at making predictions for the nextbin\n",
    "dataset = dataset.withColumnRenamed(\"label\", \"ChurnedInTimeBin\")\n",
    "dataset = dataset.withColumnRenamed(\"WillChurnInNextBin\", \"label\")\n",
    "(trainingData, testData) = dataset.randomSplit([0.8, 0.2], seed = 147309)\n",
    "\n",
    "rf = RandomForestClassifier(labelCol=\"label\", featuresCol=\"features\")\n",
    "rfModel = rf.fit(trainingData)\n",
    "\n",
    "predictions = rfModel.transform(testData)\n",
    "#selected = predictions.select(\"label\", \"prediction\", \"probability\", \"UserId\", \"UserTimeBin\")\n",
    "#selected.show(n=10)\n",
    "\n",
    "print(\"Imbalanced AUC PR: \", evaluator.evaluate(predictions, {evaluator.metricName: \"areaUnderPR\"}))\n",
    "print(\"Imbalanced AUC ROC: \", evaluator.evaluate(predictions, {evaluator.metricName: \"areaUnderROC\"}))\n",
    "\n",
    "print(\"Rebalncing, and re-running...\")\n",
    "\n",
    "stratified_data = dataset.sampleBy('label', fractions={0: 0.05, 1: 1.0}).cache()\n",
    "stratified_data.groupby('label').count().show()\n",
    "(trainingData, testData) = stratified_data.randomSplit([0.8, 0.2], seed = 147309)\n",
    "\n",
    "rf = RandomForestClassifier(labelCol=\"label\", featuresCol=\"features\")\n",
    "rfModel = rf.fit(trainingData)\n",
    "\n",
    "predictions = rfModel.transform(testData)\n",
    "\n",
    "print(\"Balanced AUC PR: \", evaluator.evaluate(predictions, {evaluator.metricName: \"areaUnderPR\"}))\n",
    "print(\"Balanced AUC ROC: \", evaluator.evaluate(predictions, {evaluator.metricName: \"areaUnderROC\"}))\n"
   ]
  },
  {
   "cell_type": "code",
   "execution_count": 14,
   "metadata": {},
   "outputs": [
    {
     "name": "stdout",
     "output_type": "stream",
     "text": [
      "Imbalanced AUC PR:  0.135615190280366\n",
      "Imbalanced AUC ROC:  0.5254306808859721\n",
      "Rebalncing, and re-running...\n",
      "+-----+-----+\n",
      "|label|count|\n",
      "+-----+-----+\n",
      "|    1|   91|\n",
      "|    0|   96|\n",
      "+-----+-----+\n",
      "\n",
      "Balanced AUC PR:  0.6538189824124645\n",
      "Balanced AUC ROC:  0.6518518518518517\n"
     ]
    }
   ],
   "source": [
    "# Now look at making predictions for the nextbin\n",
    "dataset = dataset.withColumnRenamed(\"label\", \"WillChurnInNextBin\")\n",
    "dataset = dataset.withColumnRenamed(\"WillChurnSoon\", \"label\")\n",
    "(trainingData, testData) = dataset.randomSplit([0.8, 0.2], seed = 147309)\n",
    "\n",
    "rf = RandomForestClassifier(labelCol=\"label\", featuresCol=\"features\")\n",
    "rfModel = rf.fit(trainingData)\n",
    "\n",
    "predictions = rfModel.transform(testData)\n",
    "#selected = predictions.select(\"label\", \"prediction\", \"probability\", \"UserId\", \"UserTimeBin\")\n",
    "#selected.show(n=10)\n",
    "\n",
    "print(\"Imbalanced AUC PR: \", evaluator.evaluate(predictions, {evaluator.metricName: \"areaUnderPR\"}))\n",
    "print(\"Imbalanced AUC ROC: \", evaluator.evaluate(predictions, {evaluator.metricName: \"areaUnderROC\"}))\n",
    "\n",
    "print(\"Rebalncing, and re-running...\")\n",
    "\n",
    "stratified_data = dataset.sampleBy('label', fractions={0: 0.12, 1: 1.0}).cache()\n",
    "stratified_data.groupby('label').count().show()\n",
    "(trainingData, testData) = stratified_data.randomSplit([0.8, 0.2], seed = 147309)\n",
    "\n",
    "rf = RandomForestClassifier(labelCol=\"label\", featuresCol=\"features\")\n",
    "rfModel = rf.fit(trainingData)\n",
    "\n",
    "predictions = rfModel.transform(testData)\n",
    "\n",
    "print(\"Balanced AUC PR: \", evaluator.evaluate(predictions, {evaluator.metricName: \"areaUnderPR\"}))\n",
    "print(\"Balanced AUC ROC: \", evaluator.evaluate(predictions, {evaluator.metricName: \"areaUnderROC\"}))"
   ]
  }
 ],
 "metadata": {
  "kernelspec": {
   "display_name": "Python 3",
   "language": "python",
   "name": "python3"
  },
  "language_info": {
   "codemirror_mode": {
    "name": "ipython",
    "version": 3
   },
   "file_extension": ".py",
   "mimetype": "text/x-python",
   "name": "python",
   "nbconvert_exporter": "python",
   "pygments_lexer": "ipython3",
   "version": "3.7.1"
  }
 },
 "nbformat": 4,
 "nbformat_minor": 2
}
