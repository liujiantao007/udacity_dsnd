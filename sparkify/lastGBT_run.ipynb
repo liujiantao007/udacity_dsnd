{
 "cells": [
  {
   "cell_type": "code",
   "execution_count": 1,
   "metadata": {},
   "outputs": [],
   "source": [
    "# Commented out other labels & models in main loop of dm, and re-running last run of GBT following the Spark context crash\n",
    "import data_modeling as dm"
   ]
  },
  {
   "cell_type": "code",
   "execution_count": 2,
   "metadata": {},
   "outputs": [
    {
     "name": "stdout",
     "output_type": "stream",
     "text": [
      "Building model for predicting this label:  WillChurnSoon\n",
      "Building Gradient-Boosted Tree Model...\n",
      "[*] Best GBT Model AUC PR: 0.740824717279175\n",
      "[*] Best GBT Model Param (maxDepth):  5\n",
      "[*] Best GBT Model Param (maxBins):  12\n",
      "[*] Best GBT Model Param (maxIter):  10\n",
      "Done.\n"
     ]
    }
   ],
   "source": [
    "dm.main()"
   ]
  }
 ],
 "metadata": {
  "kernelspec": {
   "display_name": "Python 3",
   "language": "python",
   "name": "python3"
  },
  "language_info": {
   "codemirror_mode": {
    "name": "ipython",
    "version": 3
   },
   "file_extension": ".py",
   "mimetype": "text/x-python",
   "name": "python",
   "nbconvert_exporter": "python",
   "pygments_lexer": "ipython3",
   "version": "3.7.1"
  }
 },
 "nbformat": 4,
 "nbformat_minor": 2
}
