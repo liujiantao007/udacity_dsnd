{
 "cells": [
  {
   "cell_type": "markdown",
   "metadata": {},
   "source": [
    "# Sparkify Project Workspace\n",
    "This workspace contains a tiny subset (128MB) of the full dataset available (12GB). Feel free to use this workspace to build your project, or to explore a smaller subset with Spark before deploying your cluster on the cloud. Instructions for setting up your Spark cluster is included in the last lesson of the Extracurricular Spark Course content.\n",
    "\n",
    "You can follow the steps below to guide your data analysis and model building portion of this project."
   ]
  },
  {
   "cell_type": "code",
   "execution_count": 26,
   "metadata": {},
   "outputs": [],
   "source": [
    "# import libraries\n",
    "from pyspark.sql import SparkSession\n",
    "from pyspark.sql.functions import udf, desc, asc, col\n",
    "from pyspark.sql.types import StringType, IntegerType, FloatType\n",
    "from pyspark.sql.functions import sum as Fsum\n",
    "from pyspark.sql.functions import lit\n",
    "\n",
    "import datetime\n",
    "\n",
    "import numpy as np\n",
    "import pandas as pd\n",
    "%matplotlib inline\n",
    "import matplotlib.pyplot as plt"
   ]
  },
  {
   "cell_type": "code",
   "execution_count": 2,
   "metadata": {},
   "outputs": [],
   "source": [
    "# create a Spark session\n",
    "spark = SparkSession \\\n",
    "    .builder \\\n",
    "    .appName(\"Sparkify\") \\\n",
    "    .getOrCreate()"
   ]
  },
  {
   "cell_type": "markdown",
   "metadata": {},
   "source": [
    "# Load and Clean Dataset\n",
    "Clean your dataset, checking for invalid or missing data. For example, records without userids or sessionids. In this workspace, the filename is `mini_sparkify_event_data.json`."
   ]
  },
  {
   "cell_type": "code",
   "execution_count": 3,
   "metadata": {},
   "outputs": [
    {
     "name": "stdout",
     "output_type": "stream",
     "text": [
      "root\n",
      " |-- artist: string (nullable = true)\n",
      " |-- auth: string (nullable = true)\n",
      " |-- firstName: string (nullable = true)\n",
      " |-- gender: string (nullable = true)\n",
      " |-- itemInSession: long (nullable = true)\n",
      " |-- lastName: string (nullable = true)\n",
      " |-- length: double (nullable = true)\n",
      " |-- level: string (nullable = true)\n",
      " |-- location: string (nullable = true)\n",
      " |-- method: string (nullable = true)\n",
      " |-- page: string (nullable = true)\n",
      " |-- registration: long (nullable = true)\n",
      " |-- sessionId: long (nullable = true)\n",
      " |-- song: string (nullable = true)\n",
      " |-- status: long (nullable = true)\n",
      " |-- ts: long (nullable = true)\n",
      " |-- userAgent: string (nullable = true)\n",
      " |-- userId: string (nullable = true)\n",
      "\n"
     ]
    }
   ],
   "source": [
    "path = \"mini_sparkify_event_data.json\"\n",
    "df = spark.read.json(path)\n",
    "df.printSchema()"
   ]
  },
  {
   "cell_type": "code",
   "execution_count": 4,
   "metadata": {},
   "outputs": [
    {
     "name": "stdout",
     "output_type": "stream",
     "text": [
      "+--------------+---------+---------+------+-------------+--------+---------+-----+---------------+------+--------+-------------+---------+---------+------+-------------+--------------------+------+\n",
      "|        artist|     auth|firstName|gender|itemInSession|lastName|   length|level|       location|method|    page| registration|sessionId|     song|status|           ts|           userAgent|userId|\n",
      "+--------------+---------+---------+------+-------------+--------+---------+-----+---------------+------+--------+-------------+---------+---------+------+-------------+--------------------+------+\n",
      "|Martha Tilston|Logged In|    Colin|     M|           50| Freeman|277.89016| paid|Bakersfield, CA|   PUT|NextSong|1538173362000|       29|Rockpools|   200|1538352117000|Mozilla/5.0 (Wind...|    30|\n",
      "+--------------+---------+---------+------+-------------+--------+---------+-----+---------------+------+--------+-------------+---------+---------+------+-------------+--------------------+------+\n",
      "only showing top 1 row\n",
      "\n"
     ]
    }
   ],
   "source": [
    "df.show(n=1)"
   ]
  },
  {
   "cell_type": "code",
   "execution_count": 5,
   "metadata": {},
   "outputs": [
    {
     "name": "stdout",
     "output_type": "stream",
     "text": [
      "+-------+------------------+----------+---------+------+------------------+--------+-----------------+------+-----------------+------+-------+--------------------+-----------------+--------------------+------------------+--------------------+--------------------+-----------------+\n",
      "|summary|            artist|      auth|firstName|gender|     itemInSession|lastName|           length| level|         location|method|   page|        registration|        sessionId|                song|            status|                  ts|           userAgent|           userId|\n",
      "+-------+------------------+----------+---------+------+------------------+--------+-----------------+------+-----------------+------+-------+--------------------+-----------------+--------------------+------------------+--------------------+--------------------+-----------------+\n",
      "|  count|            228108|    286500|   278154|278154|            286500|  278154|           228108|286500|           278154|286500| 286500|              278154|           286500|              228108|            286500|              286500|              278154|           286500|\n",
      "|   mean| 551.0852017937219|      null|     null|  null|114.41421291448516|    null|249.1171819778458|  null|             null|  null|   null|1.535358834084427...|1041.526554973822|            Infinity|210.05459685863875|1.540956889810483...|                null|59682.02278593872|\n",
      "| stddev|1217.7693079161374|      null|     null|  null|129.76726201140994|    null|99.23517921058361|  null|             null|  null|   null| 3.291321616327586E9|726.7762634630741|                 NaN| 31.50507848842214|1.5075439608226302E9|                null|109091.9499991047|\n",
      "|    min|               !!!| Cancelled| Adelaida|     F|                 0|   Adams|          0.78322|  free|       Albany, OR|   GET|  About|       1521380675000|                1|\u001c",
      "ÃÂg ÃÂtti Gr...|               200|       1538352117000|\"Mozilla/5.0 (Mac...|                 |\n",
      "|    max| ÃÂlafur Arnalds|Logged Out|   Zyonna|     M|              1321|  Wright|       3024.66567|  paid|Winston-Salem, NC|   PUT|Upgrade|       1543247354000|             2474|ÃÂau hafa slopp...|               404|       1543799476000|Mozilla/5.0 (comp...|               99|\n",
      "+-------+------------------+----------+---------+------+------------------+--------+-----------------+------+-----------------+------+-------+--------------------+-----------------+--------------------+------------------+--------------------+--------------------+-----------------+\n",
      "\n"
     ]
    }
   ],
   "source": [
    "df.describe().show()"
   ]
  },
  {
   "cell_type": "code",
   "execution_count": 6,
   "metadata": {},
   "outputs": [
    {
     "data": {
      "text/plain": [
       "286500"
      ]
     },
     "execution_count": 6,
     "metadata": {},
     "output_type": "execute_result"
    }
   ],
   "source": [
    "df.count()"
   ]
  },
  {
   "cell_type": "code",
   "execution_count": 7,
   "metadata": {},
   "outputs": [
    {
     "name": "stdout",
     "output_type": "stream",
     "text": [
      "+-------+------------------+---------+---------+------+------------------+--------+-----------------+------+-----------------+------+-------+--------------------+------------------+--------------------+------------------+--------------------+--------------------+-----------------+\n",
      "|summary|            artist|     auth|firstName|gender|     itemInSession|lastName|           length| level|         location|method|   page|        registration|         sessionId|                song|            status|                  ts|           userAgent|           userId|\n",
      "+-------+------------------+---------+---------+------+------------------+--------+-----------------+------+-----------------+------+-------+--------------------+------------------+--------------------+------------------+--------------------+--------------------+-----------------+\n",
      "|  count|            228108|   278154|   278154|278154|            278154|  278154|           228108|278154|           278154|278154| 278154|              278154|            278154|              228108|            278154|              278154|              278154|           278154|\n",
      "|   mean| 551.0852017937219|     null|     null|  null|114.89918174824018|    null|249.1171819778458|  null|             null|  null|   null|1.535358834084427...|1042.5616241362698|            Infinity|209.10321620397335|1.540958915431871...|                null|59682.02278593872|\n",
      "| stddev|1217.7693079161374|     null|     null|  null|  129.851729399489|    null|99.23517921058361|  null|             null|  null|   null| 3.291321616327586E9| 726.5010362219813|                 NaN|30.151388851328214|1.5068287123306298E9|                null|109091.9499991047|\n",
      "|    min|               !!!|Cancelled| Adelaida|     F|                 0|   Adams|          0.78322|  free|       Albany, OR|   GET|  About|       1521380675000|                 1|\u001c",
      "ÃÂg ÃÂtti Gr...|               200|       1538352117000|\"Mozilla/5.0 (Mac...|               10|\n",
      "|    max| ÃÂlafur Arnalds|Logged In|   Zyonna|     M|              1321|  Wright|       3024.66567|  paid|Winston-Salem, NC|   PUT|Upgrade|       1543247354000|              2474|ÃÂau hafa slopp...|               404|       1543799476000|Mozilla/5.0 (comp...|               99|\n",
      "+-------+------------------+---------+---------+------+------------------+--------+-----------------+------+-----------------+------+-------+--------------------+------------------+--------------------+------------------+--------------------+--------------------+-----------------+\n",
      "\n"
     ]
    }
   ],
   "source": [
    "# Clean - require valid userId & sessionId\n",
    "clean_df = df.dropna(how = \"any\", subset = [\"userId\", \"sessionId\"]) # Note: there were no NaNs seen in data sample\n",
    "clean_df = clean_df.filter(clean_df[\"userId\"] != \"\") # Drop empty string userId\n",
    "clean_df.describe().show()"
   ]
  },
  {
   "cell_type": "code",
   "execution_count": 8,
   "metadata": {},
   "outputs": [
    {
     "data": {
      "text/plain": [
       "278154"
      ]
     },
     "execution_count": 8,
     "metadata": {},
     "output_type": "execute_result"
    }
   ],
   "source": [
    "clean_df.count()"
   ]
  },
  {
   "cell_type": "markdown",
   "metadata": {},
   "source": [
    "# Exploratory Data Analysis\n",
    "When you're working with the full dataset, perform EDA by loading a small subset of the data and doing basic manipulations within Spark. In this workspace, you are already provided a small subset of data you can explore.\n",
    "\n",
    "### Define Churn\n",
    "\n",
    "Once you've done some preliminary analysis, create a column `Churn` to use as the label for your model. I suggest using the `Cancellation Confirmation` events to define your churn, which happen for both paid and free users. As a bonus task, you can also look into the `Downgrade` events.\n",
    "\n",
    "### Explore Data\n",
    "Once you've defined churn, perform some exploratory data analysis to observe the behavior for users who stayed vs users who churned. You can start by exploring aggregates on these two groups of users, observing how much of a specific action they experienced per a certain time unit or number of songs played."
   ]
  },
  {
   "cell_type": "code",
   "execution_count": 9,
   "metadata": {},
   "outputs": [
    {
     "name": "stdout",
     "output_type": "stream",
     "text": [
      "+--------------------+\n",
      "|                page|\n",
      "+--------------------+\n",
      "|              Cancel|\n",
      "|    Submit Downgrade|\n",
      "|         Thumbs Down|\n",
      "|                Home|\n",
      "|           Downgrade|\n",
      "|         Roll Advert|\n",
      "|              Logout|\n",
      "|       Save Settings|\n",
      "|Cancellation Conf...|\n",
      "|               About|\n",
      "|            Settings|\n",
      "|     Add to Playlist|\n",
      "|          Add Friend|\n",
      "|            NextSong|\n",
      "|           Thumbs Up|\n",
      "|                Help|\n",
      "|             Upgrade|\n",
      "|               Error|\n",
      "|      Submit Upgrade|\n",
      "+--------------------+\n",
      "\n"
     ]
    }
   ],
   "source": [
    "# Look at distinct page values\n",
    "clean_df.select('page').distinct().show()"
   ]
  },
  {
   "cell_type": "code",
   "execution_count": 10,
   "metadata": {},
   "outputs": [
    {
     "data": {
      "text/plain": [
       "Row(artist='Martha Tilston', auth='Logged In', firstName='Colin', gender='M', itemInSession=50, lastName='Freeman', length=277.89016, level='paid', location='Bakersfield, CA', method='PUT', page='NextSong', registration=1538173362000, sessionId=29, song='Rockpools', status=200, ts=1538352117000, userAgent='Mozilla/5.0 (Windows NT 6.1; WOW64; rv:31.0) Gecko/20100101 Firefox/31.0', userId='30', churned=0)"
      ]
     },
     "execution_count": 10,
     "metadata": {},
     "output_type": "execute_result"
    }
   ],
   "source": [
    "# Define a \"churn\" event to be when 'Cancellation Confirmation' page is visited\n",
    "flag_churn_event = udf(lambda x: 1 if x == \"Cancellation Confirmation\" else 0, IntegerType())\n",
    "clean_df = clean_df.withColumn(\"churned\", flag_churn_event(\"page\"))\n",
    "clean_df.head()"
   ]
  },
  {
   "cell_type": "code",
   "execution_count": 11,
   "metadata": {},
   "outputs": [
    {
     "data": {
      "text/plain": [
       "Row(artist='Martha Tilston', auth='Logged In', firstName='Colin', gender='M', itemInSession=50, lastName='Freeman', length=277.89016, level='paid', location='Bakersfield, CA', method='PUT', page='NextSong', registration=1538173362000, sessionId=29, song='Rockpools', status=200, ts=1538352117000, userAgent='Mozilla/5.0 (Windows NT 6.1; WOW64; rv:31.0) Gecko/20100101 Firefox/31.0', userId='30', churned=0, downgraded=0)"
      ]
     },
     "execution_count": 11,
     "metadata": {},
     "output_type": "execute_result"
    }
   ],
   "source": [
    "# Similarly track \"downgrade\" events\n",
    "flag_downgrade_event = udf(lambda x: 1 if x == \"Submit Downgrade\" else 0, IntegerType())\n",
    "clean_df = clean_df.withColumn(\"downgraded\", flag_downgrade_event(\"page\"))\n",
    "clean_df.head()"
   ]
  },
  {
   "cell_type": "code",
   "execution_count": 12,
   "metadata": {},
   "outputs": [
    {
     "data": {
      "text/plain": [
       "Row(artist='Martha Tilston', auth='Logged In', firstName='Colin', gender='M', itemInSession=50, lastName='Freeman', length=277.89016, level='paid', location='Bakersfield, CA', method='PUT', page='NextSong', registration=1538173362000, sessionId=29, song='Rockpools', status=200, ts=1538352117000, userAgent='Mozilla/5.0 (Windows NT 6.1; WOW64; rv:31.0) Gecko/20100101 Firefox/31.0', userId='30', churned=0, downgraded=0, hour=0)"
      ]
     },
     "execution_count": 12,
     "metadata": {},
     "output_type": "execute_result"
    }
   ],
   "source": [
    "# Pull out hour from millisecond ts\n",
    "get_hour = udf(lambda x: datetime.datetime.fromtimestamp(x / 1000.0).hour, IntegerType())\n",
    "clean_df = clean_df.withColumn(\"hour\", get_hour(\"ts\"))\n",
    "clean_df.head()"
   ]
  },
  {
   "cell_type": "code",
   "execution_count": 13,
   "metadata": {},
   "outputs": [
    {
     "name": "stdout",
     "output_type": "stream",
     "text": [
      "+-------+---------------------+\n",
      "|summary|DaysSinceRegistration|\n",
      "+-------+---------------------+\n",
      "|  count|               278154|\n",
      "|   mean|    64.81575632214941|\n",
      "| stddev|   41.993367597600084|\n",
      "|    min|           -2.2718172|\n",
      "|    max|             256.3777|\n",
      "+-------+---------------------+\n",
      "\n"
     ]
    }
   ],
   "source": [
    "# Time since registration\n",
    "days_active = udf(lambda x,y: float((x-y)/(86400000.0)), FloatType())\n",
    "clean_df = clean_df.withColumn(\"DaysSinceRegistration\", days_active(\"ts\", \"registration\"))\n",
    "\n",
    "# Look at distribution of time for accounts\n",
    "clean_df.describe(\"DaysSinceRegistration\").show()"
   ]
  },
  {
   "cell_type": "code",
   "execution_count": 14,
   "metadata": {},
   "outputs": [
    {
     "name": "stdout",
     "output_type": "stream",
     "text": [
      "NonChurn Free Users\n",
      "149\n",
      "SELECT hour, COUNT(*)/149 AS avg_plays_per_hour FROM myView WHERE page=\"NextSong\" AND level=\"free\" AND userId NOT IN (SELECT DISTINCT userId FROM myView WHERE churned=1) GROUP BY hour ORDER BY hour\n"
     ]
    },
    {
     "data": {
      "text/html": [
       "<div>\n",
       "<style>\n",
       "    .dataframe thead tr:only-child th {\n",
       "        text-align: right;\n",
       "    }\n",
       "\n",
       "    .dataframe thead th {\n",
       "        text-align: left;\n",
       "    }\n",
       "\n",
       "    .dataframe tbody tr th {\n",
       "        vertical-align: top;\n",
       "    }\n",
       "</style>\n",
       "<table border=\"1\" class=\"dataframe\">\n",
       "  <thead>\n",
       "    <tr style=\"text-align: right;\">\n",
       "      <th></th>\n",
       "      <th>hour</th>\n",
       "      <th>avg_plays_per_hour</th>\n",
       "    </tr>\n",
       "  </thead>\n",
       "  <tbody>\n",
       "    <tr>\n",
       "      <th>0</th>\n",
       "      <td>0</td>\n",
       "      <td>7.906040</td>\n",
       "    </tr>\n",
       "    <tr>\n",
       "      <th>1</th>\n",
       "      <td>1</td>\n",
       "      <td>7.469799</td>\n",
       "    </tr>\n",
       "    <tr>\n",
       "      <th>2</th>\n",
       "      <td>2</td>\n",
       "      <td>7.422819</td>\n",
       "    </tr>\n",
       "    <tr>\n",
       "      <th>3</th>\n",
       "      <td>3</td>\n",
       "      <td>7.731544</td>\n",
       "    </tr>\n",
       "    <tr>\n",
       "      <th>4</th>\n",
       "      <td>4</td>\n",
       "      <td>7.577181</td>\n",
       "    </tr>\n",
       "    <tr>\n",
       "      <th>5</th>\n",
       "      <td>5</td>\n",
       "      <td>7.536913</td>\n",
       "    </tr>\n",
       "    <tr>\n",
       "      <th>6</th>\n",
       "      <td>6</td>\n",
       "      <td>7.523490</td>\n",
       "    </tr>\n",
       "    <tr>\n",
       "      <th>7</th>\n",
       "      <td>7</td>\n",
       "      <td>7.040268</td>\n",
       "    </tr>\n",
       "    <tr>\n",
       "      <th>8</th>\n",
       "      <td>8</td>\n",
       "      <td>6.617450</td>\n",
       "    </tr>\n",
       "    <tr>\n",
       "      <th>9</th>\n",
       "      <td>9</td>\n",
       "      <td>7.442953</td>\n",
       "    </tr>\n",
       "    <tr>\n",
       "      <th>10</th>\n",
       "      <td>10</td>\n",
       "      <td>8.402685</td>\n",
       "    </tr>\n",
       "    <tr>\n",
       "      <th>11</th>\n",
       "      <td>11</td>\n",
       "      <td>9.335570</td>\n",
       "    </tr>\n",
       "    <tr>\n",
       "      <th>12</th>\n",
       "      <td>12</td>\n",
       "      <td>10.651007</td>\n",
       "    </tr>\n",
       "    <tr>\n",
       "      <th>13</th>\n",
       "      <td>13</td>\n",
       "      <td>11.060403</td>\n",
       "    </tr>\n",
       "    <tr>\n",
       "      <th>14</th>\n",
       "      <td>14</td>\n",
       "      <td>12.167785</td>\n",
       "    </tr>\n",
       "    <tr>\n",
       "      <th>15</th>\n",
       "      <td>15</td>\n",
       "      <td>12.704698</td>\n",
       "    </tr>\n",
       "    <tr>\n",
       "      <th>16</th>\n",
       "      <td>16</td>\n",
       "      <td>12.852349</td>\n",
       "    </tr>\n",
       "    <tr>\n",
       "      <th>17</th>\n",
       "      <td>17</td>\n",
       "      <td>11.731544</td>\n",
       "    </tr>\n",
       "    <tr>\n",
       "      <th>18</th>\n",
       "      <td>18</td>\n",
       "      <td>10.087248</td>\n",
       "    </tr>\n",
       "    <tr>\n",
       "      <th>19</th>\n",
       "      <td>19</td>\n",
       "      <td>9.463087</td>\n",
       "    </tr>\n",
       "    <tr>\n",
       "      <th>20</th>\n",
       "      <td>20</td>\n",
       "      <td>9.812081</td>\n",
       "    </tr>\n",
       "    <tr>\n",
       "      <th>21</th>\n",
       "      <td>21</td>\n",
       "      <td>9.409396</td>\n",
       "    </tr>\n",
       "    <tr>\n",
       "      <th>22</th>\n",
       "      <td>22</td>\n",
       "      <td>9.429530</td>\n",
       "    </tr>\n",
       "    <tr>\n",
       "      <th>23</th>\n",
       "      <td>23</td>\n",
       "      <td>8.805369</td>\n",
       "    </tr>\n",
       "  </tbody>\n",
       "</table>\n",
       "</div>"
      ],
      "text/plain": [
       "    hour  avg_plays_per_hour\n",
       "0      0            7.906040\n",
       "1      1            7.469799\n",
       "2      2            7.422819\n",
       "3      3            7.731544\n",
       "4      4            7.577181\n",
       "5      5            7.536913\n",
       "6      6            7.523490\n",
       "7      7            7.040268\n",
       "8      8            6.617450\n",
       "9      9            7.442953\n",
       "10    10            8.402685\n",
       "11    11            9.335570\n",
       "12    12           10.651007\n",
       "13    13           11.060403\n",
       "14    14           12.167785\n",
       "15    15           12.704698\n",
       "16    16           12.852349\n",
       "17    17           11.731544\n",
       "18    18           10.087248\n",
       "19    19            9.463087\n",
       "20    20            9.812081\n",
       "21    21            9.409396\n",
       "22    22            9.429530\n",
       "23    23            8.805369"
      ]
     },
     "execution_count": 14,
     "metadata": {},
     "output_type": "execute_result"
    }
   ],
   "source": [
    "# Get NonChurn Free User count\n",
    "print(\"NonChurn Free Users\")\n",
    "clean_df.createOrReplaceTempView(\"myView\")\n",
    "ret_val = spark.sql('''SELECT COUNT(DISTINCT userId) as free_user_count FROM myView \n",
    "WHERE level=\"free\" AND userId NOT IN (SELECT DISTINCT userId FROM myView WHERE churned=1)''').collect()\n",
    "nonchurned_free_count = ret_val[0][\"free_user_count\"]\n",
    "print(nonchurned_free_count)\n",
    "\n",
    "# Get avg plays per hour for NonChurn Free Users\n",
    "clean_df.createOrReplaceTempView(\"myView\")\n",
    "query = 'SELECT hour, COUNT(*)/{} AS avg_plays_per_hour FROM myView \\\n",
    "WHERE page=\"NextSong\" AND level=\"free\" AND userId NOT IN \\\n",
    "(SELECT DISTINCT userId FROM myView WHERE churned=1) \\\n",
    "GROUP BY hour ORDER BY hour'.format(nonchurned_free_count)\n",
    "print(query)\n",
    "\n",
    "nonchurn_free_pph = spark.sql(query)\n",
    "nonchurn_free_pph_pd = nonchurn_free_pph.toPandas()\n",
    "nonchurn_free_pph_pd"
   ]
  },
  {
   "cell_type": "code",
   "execution_count": 15,
   "metadata": {},
   "outputs": [
    {
     "name": "stdout",
     "output_type": "stream",
     "text": [
      "NonChurn Paid Users\n",
      "129\n"
     ]
    },
    {
     "data": {
      "text/html": [
       "<div>\n",
       "<style>\n",
       "    .dataframe thead tr:only-child th {\n",
       "        text-align: right;\n",
       "    }\n",
       "\n",
       "    .dataframe thead th {\n",
       "        text-align: left;\n",
       "    }\n",
       "\n",
       "    .dataframe tbody tr th {\n",
       "        vertical-align: top;\n",
       "    }\n",
       "</style>\n",
       "<table border=\"1\" class=\"dataframe\">\n",
       "  <thead>\n",
       "    <tr style=\"text-align: right;\">\n",
       "      <th></th>\n",
       "      <th>hour</th>\n",
       "      <th>avg_plays_per_hour</th>\n",
       "    </tr>\n",
       "  </thead>\n",
       "  <tbody>\n",
       "    <tr>\n",
       "      <th>0</th>\n",
       "      <td>0</td>\n",
       "      <td>49.217054</td>\n",
       "    </tr>\n",
       "    <tr>\n",
       "      <th>1</th>\n",
       "      <td>1</td>\n",
       "      <td>45.906977</td>\n",
       "    </tr>\n",
       "    <tr>\n",
       "      <th>2</th>\n",
       "      <td>2</td>\n",
       "      <td>45.798450</td>\n",
       "    </tr>\n",
       "    <tr>\n",
       "      <th>3</th>\n",
       "      <td>3</td>\n",
       "      <td>45.821705</td>\n",
       "    </tr>\n",
       "    <tr>\n",
       "      <th>4</th>\n",
       "      <td>4</td>\n",
       "      <td>44.844961</td>\n",
       "    </tr>\n",
       "    <tr>\n",
       "      <th>5</th>\n",
       "      <td>5</td>\n",
       "      <td>45.248062</td>\n",
       "    </tr>\n",
       "    <tr>\n",
       "      <th>6</th>\n",
       "      <td>6</td>\n",
       "      <td>44.302326</td>\n",
       "    </tr>\n",
       "    <tr>\n",
       "      <th>7</th>\n",
       "      <td>7</td>\n",
       "      <td>45.147287</td>\n",
       "    </tr>\n",
       "    <tr>\n",
       "      <th>8</th>\n",
       "      <td>8</td>\n",
       "      <td>46.798450</td>\n",
       "    </tr>\n",
       "    <tr>\n",
       "      <th>9</th>\n",
       "      <td>9</td>\n",
       "      <td>47.744186</td>\n",
       "    </tr>\n",
       "    <tr>\n",
       "      <th>10</th>\n",
       "      <td>10</td>\n",
       "      <td>48.449612</td>\n",
       "    </tr>\n",
       "    <tr>\n",
       "      <th>11</th>\n",
       "      <td>11</td>\n",
       "      <td>46.891473</td>\n",
       "    </tr>\n",
       "    <tr>\n",
       "      <th>12</th>\n",
       "      <td>12</td>\n",
       "      <td>49.077519</td>\n",
       "    </tr>\n",
       "    <tr>\n",
       "      <th>13</th>\n",
       "      <td>13</td>\n",
       "      <td>49.806202</td>\n",
       "    </tr>\n",
       "    <tr>\n",
       "      <th>14</th>\n",
       "      <td>14</td>\n",
       "      <td>54.100775</td>\n",
       "    </tr>\n",
       "    <tr>\n",
       "      <th>15</th>\n",
       "      <td>15</td>\n",
       "      <td>58.674419</td>\n",
       "    </tr>\n",
       "    <tr>\n",
       "      <th>16</th>\n",
       "      <td>16</td>\n",
       "      <td>60.511628</td>\n",
       "    </tr>\n",
       "    <tr>\n",
       "      <th>17</th>\n",
       "      <td>17</td>\n",
       "      <td>59.813953</td>\n",
       "    </tr>\n",
       "    <tr>\n",
       "      <th>18</th>\n",
       "      <td>18</td>\n",
       "      <td>59.248062</td>\n",
       "    </tr>\n",
       "    <tr>\n",
       "      <th>19</th>\n",
       "      <td>19</td>\n",
       "      <td>59.705426</td>\n",
       "    </tr>\n",
       "    <tr>\n",
       "      <th>20</th>\n",
       "      <td>20</td>\n",
       "      <td>59.263566</td>\n",
       "    </tr>\n",
       "    <tr>\n",
       "      <th>21</th>\n",
       "      <td>21</td>\n",
       "      <td>57.759690</td>\n",
       "    </tr>\n",
       "    <tr>\n",
       "      <th>22</th>\n",
       "      <td>22</td>\n",
       "      <td>55.201550</td>\n",
       "    </tr>\n",
       "    <tr>\n",
       "      <th>23</th>\n",
       "      <td>23</td>\n",
       "      <td>52.503876</td>\n",
       "    </tr>\n",
       "  </tbody>\n",
       "</table>\n",
       "</div>"
      ],
      "text/plain": [
       "    hour  avg_plays_per_hour\n",
       "0      0           49.217054\n",
       "1      1           45.906977\n",
       "2      2           45.798450\n",
       "3      3           45.821705\n",
       "4      4           44.844961\n",
       "5      5           45.248062\n",
       "6      6           44.302326\n",
       "7      7           45.147287\n",
       "8      8           46.798450\n",
       "9      9           47.744186\n",
       "10    10           48.449612\n",
       "11    11           46.891473\n",
       "12    12           49.077519\n",
       "13    13           49.806202\n",
       "14    14           54.100775\n",
       "15    15           58.674419\n",
       "16    16           60.511628\n",
       "17    17           59.813953\n",
       "18    18           59.248062\n",
       "19    19           59.705426\n",
       "20    20           59.263566\n",
       "21    21           57.759690\n",
       "22    22           55.201550\n",
       "23    23           52.503876"
      ]
     },
     "execution_count": 15,
     "metadata": {},
     "output_type": "execute_result"
    }
   ],
   "source": [
    "# Get count of NonChurn Paid Users\n",
    "print(\"NonChurn Paid Users\")\n",
    "clean_df.createOrReplaceTempView(\"myView\")\n",
    "ret_val = spark.sql('''SELECT COUNT(DISTINCT userId) as paid_user_count FROM myView \n",
    "WHERE level=\"paid\" AND userId NOT IN (SELECT DISTINCT userId FROM myView WHERE churned=1)''').collect()\n",
    "nonchurned_paid_count = ret_val[0][\"paid_user_count\"]\n",
    "print(nonchurned_paid_count)\n",
    "\n",
    "# Get avg plays per hour for NonChurn Paid Users\n",
    "clean_df.createOrReplaceTempView(\"myView\")\n",
    "query = 'SELECT hour, COUNT(*)/{} AS avg_plays_per_hour FROM myView \\\n",
    "WHERE page=\"NextSong\" AND level=\"paid\" AND userId NOT IN \\\n",
    "(SELECT DISTINCT userId FROM myView WHERE churned=1) \\\n",
    "GROUP BY hour ORDER BY hour'.format(nonchurned_paid_count)\n",
    "\n",
    "nonchurn_paid_pph = spark.sql(query)\n",
    "nonchurn_paid_pph_pd = nonchurn_paid_pph.toPandas()\n",
    "nonchurn_paid_pph_pd"
   ]
  },
  {
   "cell_type": "code",
   "execution_count": 16,
   "metadata": {},
   "outputs": [
    {
     "name": "stdout",
     "output_type": "stream",
     "text": [
      "Downgrade Users\n",
      "49\n"
     ]
    },
    {
     "data": {
      "text/html": [
       "<div>\n",
       "<style>\n",
       "    .dataframe thead tr:only-child th {\n",
       "        text-align: right;\n",
       "    }\n",
       "\n",
       "    .dataframe thead th {\n",
       "        text-align: left;\n",
       "    }\n",
       "\n",
       "    .dataframe tbody tr th {\n",
       "        vertical-align: top;\n",
       "    }\n",
       "</style>\n",
       "<table border=\"1\" class=\"dataframe\">\n",
       "  <thead>\n",
       "    <tr style=\"text-align: right;\">\n",
       "      <th></th>\n",
       "      <th>hour</th>\n",
       "      <th>avg_plays_per_hour</th>\n",
       "    </tr>\n",
       "  </thead>\n",
       "  <tbody>\n",
       "    <tr>\n",
       "      <th>0</th>\n",
       "      <td>0</td>\n",
       "      <td>68.795918</td>\n",
       "    </tr>\n",
       "    <tr>\n",
       "      <th>1</th>\n",
       "      <td>1</td>\n",
       "      <td>62.795918</td>\n",
       "    </tr>\n",
       "    <tr>\n",
       "      <th>2</th>\n",
       "      <td>2</td>\n",
       "      <td>63.510204</td>\n",
       "    </tr>\n",
       "    <tr>\n",
       "      <th>3</th>\n",
       "      <td>3</td>\n",
       "      <td>64.755102</td>\n",
       "    </tr>\n",
       "    <tr>\n",
       "      <th>4</th>\n",
       "      <td>4</td>\n",
       "      <td>64.795918</td>\n",
       "    </tr>\n",
       "    <tr>\n",
       "      <th>5</th>\n",
       "      <td>5</td>\n",
       "      <td>66.306122</td>\n",
       "    </tr>\n",
       "    <tr>\n",
       "      <th>6</th>\n",
       "      <td>6</td>\n",
       "      <td>63.040816</td>\n",
       "    </tr>\n",
       "    <tr>\n",
       "      <th>7</th>\n",
       "      <td>7</td>\n",
       "      <td>62.816327</td>\n",
       "    </tr>\n",
       "    <tr>\n",
       "      <th>8</th>\n",
       "      <td>8</td>\n",
       "      <td>63.979592</td>\n",
       "    </tr>\n",
       "    <tr>\n",
       "      <th>9</th>\n",
       "      <td>9</td>\n",
       "      <td>63.530612</td>\n",
       "    </tr>\n",
       "    <tr>\n",
       "      <th>10</th>\n",
       "      <td>10</td>\n",
       "      <td>63.918367</td>\n",
       "    </tr>\n",
       "    <tr>\n",
       "      <th>11</th>\n",
       "      <td>11</td>\n",
       "      <td>65.653061</td>\n",
       "    </tr>\n",
       "    <tr>\n",
       "      <th>12</th>\n",
       "      <td>12</td>\n",
       "      <td>70.102041</td>\n",
       "    </tr>\n",
       "    <tr>\n",
       "      <th>13</th>\n",
       "      <td>13</td>\n",
       "      <td>70.897959</td>\n",
       "    </tr>\n",
       "    <tr>\n",
       "      <th>14</th>\n",
       "      <td>14</td>\n",
       "      <td>78.714286</td>\n",
       "    </tr>\n",
       "    <tr>\n",
       "      <th>15</th>\n",
       "      <td>15</td>\n",
       "      <td>89.632653</td>\n",
       "    </tr>\n",
       "    <tr>\n",
       "      <th>16</th>\n",
       "      <td>16</td>\n",
       "      <td>95.979592</td>\n",
       "    </tr>\n",
       "    <tr>\n",
       "      <th>17</th>\n",
       "      <td>17</td>\n",
       "      <td>96.673469</td>\n",
       "    </tr>\n",
       "    <tr>\n",
       "      <th>18</th>\n",
       "      <td>18</td>\n",
       "      <td>89.979592</td>\n",
       "    </tr>\n",
       "    <tr>\n",
       "      <th>19</th>\n",
       "      <td>19</td>\n",
       "      <td>88.530612</td>\n",
       "    </tr>\n",
       "    <tr>\n",
       "      <th>20</th>\n",
       "      <td>20</td>\n",
       "      <td>86.734694</td>\n",
       "    </tr>\n",
       "    <tr>\n",
       "      <th>21</th>\n",
       "      <td>21</td>\n",
       "      <td>82.734694</td>\n",
       "    </tr>\n",
       "    <tr>\n",
       "      <th>22</th>\n",
       "      <td>22</td>\n",
       "      <td>80.000000</td>\n",
       "    </tr>\n",
       "    <tr>\n",
       "      <th>23</th>\n",
       "      <td>23</td>\n",
       "      <td>72.346939</td>\n",
       "    </tr>\n",
       "  </tbody>\n",
       "</table>\n",
       "</div>"
      ],
      "text/plain": [
       "    hour  avg_plays_per_hour\n",
       "0      0           68.795918\n",
       "1      1           62.795918\n",
       "2      2           63.510204\n",
       "3      3           64.755102\n",
       "4      4           64.795918\n",
       "5      5           66.306122\n",
       "6      6           63.040816\n",
       "7      7           62.816327\n",
       "8      8           63.979592\n",
       "9      9           63.530612\n",
       "10    10           63.918367\n",
       "11    11           65.653061\n",
       "12    12           70.102041\n",
       "13    13           70.897959\n",
       "14    14           78.714286\n",
       "15    15           89.632653\n",
       "16    16           95.979592\n",
       "17    17           96.673469\n",
       "18    18           89.979592\n",
       "19    19           88.530612\n",
       "20    20           86.734694\n",
       "21    21           82.734694\n",
       "22    22           80.000000\n",
       "23    23           72.346939"
      ]
     },
     "execution_count": 16,
     "metadata": {},
     "output_type": "execute_result"
    }
   ],
   "source": [
    "# Get downgraded user count\n",
    "print(\"Downgrade Users\")\n",
    "clean_df.createOrReplaceTempView(\"myView\")\n",
    "ret_val = spark.sql('''\n",
    "          SELECT COUNT(DISTINCT userId) as downgrade_user_count FROM myView WHERE downgraded=1\n",
    "          '''\n",
    "          ).collect()\n",
    "downgrade_user_count = ret_val[0][\"downgrade_user_count\"]\n",
    "print(downgrade_user_count)\n",
    "\n",
    "# Get avg plays per hour for Downgrade Users\n",
    "clean_df.createOrReplaceTempView(\"myView\")\n",
    "query = 'SELECT hour, COUNT(*)/{} AS avg_plays_per_hour FROM myView \\\n",
    "WHERE page=\"NextSong\" AND userId IN \\\n",
    "(SELECT DISTINCT userId FROM myView WHERE downgraded=1) \\\n",
    "GROUP BY hour ORDER BY hour'.format(downgrade_user_count)\n",
    "\n",
    "downgrade_pph = spark.sql(query)\n",
    "downgrade_pph_pd = downgrade_pph.toPandas()\n",
    "downgrade_pph_pd"
   ]
  },
  {
   "cell_type": "code",
   "execution_count": 17,
   "metadata": {},
   "outputs": [
    {
     "name": "stdout",
     "output_type": "stream",
     "text": [
      "Churn Free Users\n",
      "21\n"
     ]
    },
    {
     "data": {
      "text/html": [
       "<div>\n",
       "<style>\n",
       "    .dataframe thead tr:only-child th {\n",
       "        text-align: right;\n",
       "    }\n",
       "\n",
       "    .dataframe thead th {\n",
       "        text-align: left;\n",
       "    }\n",
       "\n",
       "    .dataframe tbody tr th {\n",
       "        vertical-align: top;\n",
       "    }\n",
       "</style>\n",
       "<table border=\"1\" class=\"dataframe\">\n",
       "  <thead>\n",
       "    <tr style=\"text-align: right;\">\n",
       "      <th></th>\n",
       "      <th>hour</th>\n",
       "      <th>avg_plays_per_hour</th>\n",
       "    </tr>\n",
       "  </thead>\n",
       "  <tbody>\n",
       "    <tr>\n",
       "      <th>0</th>\n",
       "      <td>0</td>\n",
       "      <td>7.095238</td>\n",
       "    </tr>\n",
       "    <tr>\n",
       "      <th>1</th>\n",
       "      <td>1</td>\n",
       "      <td>6.285714</td>\n",
       "    </tr>\n",
       "    <tr>\n",
       "      <th>2</th>\n",
       "      <td>2</td>\n",
       "      <td>7.714286</td>\n",
       "    </tr>\n",
       "    <tr>\n",
       "      <th>3</th>\n",
       "      <td>3</td>\n",
       "      <td>6.904762</td>\n",
       "    </tr>\n",
       "    <tr>\n",
       "      <th>4</th>\n",
       "      <td>4</td>\n",
       "      <td>7.476190</td>\n",
       "    </tr>\n",
       "    <tr>\n",
       "      <th>5</th>\n",
       "      <td>5</td>\n",
       "      <td>7.380952</td>\n",
       "    </tr>\n",
       "    <tr>\n",
       "      <th>6</th>\n",
       "      <td>6</td>\n",
       "      <td>9.761905</td>\n",
       "    </tr>\n",
       "    <tr>\n",
       "      <th>7</th>\n",
       "      <td>7</td>\n",
       "      <td>10.047619</td>\n",
       "    </tr>\n",
       "    <tr>\n",
       "      <th>8</th>\n",
       "      <td>8</td>\n",
       "      <td>9.380952</td>\n",
       "    </tr>\n",
       "    <tr>\n",
       "      <th>9</th>\n",
       "      <td>9</td>\n",
       "      <td>8.285714</td>\n",
       "    </tr>\n",
       "    <tr>\n",
       "      <th>10</th>\n",
       "      <td>10</td>\n",
       "      <td>7.333333</td>\n",
       "    </tr>\n",
       "    <tr>\n",
       "      <th>11</th>\n",
       "      <td>11</td>\n",
       "      <td>6.619048</td>\n",
       "    </tr>\n",
       "    <tr>\n",
       "      <th>12</th>\n",
       "      <td>12</td>\n",
       "      <td>8.666667</td>\n",
       "    </tr>\n",
       "    <tr>\n",
       "      <th>13</th>\n",
       "      <td>13</td>\n",
       "      <td>13.714286</td>\n",
       "    </tr>\n",
       "    <tr>\n",
       "      <th>14</th>\n",
       "      <td>14</td>\n",
       "      <td>17.571429</td>\n",
       "    </tr>\n",
       "    <tr>\n",
       "      <th>15</th>\n",
       "      <td>15</td>\n",
       "      <td>21.952381</td>\n",
       "    </tr>\n",
       "    <tr>\n",
       "      <th>16</th>\n",
       "      <td>16</td>\n",
       "      <td>22.380952</td>\n",
       "    </tr>\n",
       "    <tr>\n",
       "      <th>17</th>\n",
       "      <td>17</td>\n",
       "      <td>20.857143</td>\n",
       "    </tr>\n",
       "    <tr>\n",
       "      <th>18</th>\n",
       "      <td>18</td>\n",
       "      <td>18.380952</td>\n",
       "    </tr>\n",
       "    <tr>\n",
       "      <th>19</th>\n",
       "      <td>19</td>\n",
       "      <td>14.190476</td>\n",
       "    </tr>\n",
       "    <tr>\n",
       "      <th>20</th>\n",
       "      <td>20</td>\n",
       "      <td>14.380952</td>\n",
       "    </tr>\n",
       "    <tr>\n",
       "      <th>21</th>\n",
       "      <td>21</td>\n",
       "      <td>11.238095</td>\n",
       "    </tr>\n",
       "    <tr>\n",
       "      <th>22</th>\n",
       "      <td>22</td>\n",
       "      <td>10.666667</td>\n",
       "    </tr>\n",
       "    <tr>\n",
       "      <th>23</th>\n",
       "      <td>23</td>\n",
       "      <td>6.952381</td>\n",
       "    </tr>\n",
       "  </tbody>\n",
       "</table>\n",
       "</div>"
      ],
      "text/plain": [
       "    hour  avg_plays_per_hour\n",
       "0      0            7.095238\n",
       "1      1            6.285714\n",
       "2      2            7.714286\n",
       "3      3            6.904762\n",
       "4      4            7.476190\n",
       "5      5            7.380952\n",
       "6      6            9.761905\n",
       "7      7           10.047619\n",
       "8      8            9.380952\n",
       "9      9            8.285714\n",
       "10    10            7.333333\n",
       "11    11            6.619048\n",
       "12    12            8.666667\n",
       "13    13           13.714286\n",
       "14    14           17.571429\n",
       "15    15           21.952381\n",
       "16    16           22.380952\n",
       "17    17           20.857143\n",
       "18    18           18.380952\n",
       "19    19           14.190476\n",
       "20    20           14.380952\n",
       "21    21           11.238095\n",
       "22    22           10.666667\n",
       "23    23            6.952381"
      ]
     },
     "execution_count": 17,
     "metadata": {},
     "output_type": "execute_result"
    }
   ],
   "source": [
    "# Get Free Churn User Count\n",
    "print(\"Churn Free Users\")\n",
    "clean_df.createOrReplaceTempView(\"myView\")\n",
    "ret_val = spark.sql('''\n",
    "          SELECT COUNT(DISTINCT userId) as churned_free_count FROM myView WHERE churned=1 and level=\"free\"\n",
    "          '''\n",
    "          ).collect()\n",
    "churned_free_count = ret_val[0][\"churned_free_count\"]\n",
    "print(churned_free_count)\n",
    "\n",
    "# Get Avg Plays Per Hour from Free Churn Users\n",
    "clean_df.createOrReplaceTempView(\"myView\")\n",
    "query = 'SELECT hour, COUNT(*)/{} AS avg_plays_per_hour FROM myView \\\n",
    "    WHERE page=\"NextSong\" AND userId IN \\\n",
    "    (SELECT DISTINCT userId FROM myView WHERE churned=1 and level=\"free\") \\\n",
    "    GROUP BY hour ORDER BY hour'.format(churned_free_count)\n",
    "\n",
    "free_churn_pph = spark.sql(query)\n",
    "free_churn_pph_pd = free_churn_pph.toPandas()\n",
    "free_churn_pph_pd"
   ]
  },
  {
   "cell_type": "code",
   "execution_count": 18,
   "metadata": {},
   "outputs": [
    {
     "name": "stdout",
     "output_type": "stream",
     "text": [
      "31\n"
     ]
    },
    {
     "data": {
      "text/html": [
       "<div>\n",
       "<style>\n",
       "    .dataframe thead tr:only-child th {\n",
       "        text-align: right;\n",
       "    }\n",
       "\n",
       "    .dataframe thead th {\n",
       "        text-align: left;\n",
       "    }\n",
       "\n",
       "    .dataframe tbody tr th {\n",
       "        vertical-align: top;\n",
       "    }\n",
       "</style>\n",
       "<table border=\"1\" class=\"dataframe\">\n",
       "  <thead>\n",
       "    <tr style=\"text-align: right;\">\n",
       "      <th></th>\n",
       "      <th>hour</th>\n",
       "      <th>avg_plays_per_hour</th>\n",
       "    </tr>\n",
       "  </thead>\n",
       "  <tbody>\n",
       "    <tr>\n",
       "      <th>0</th>\n",
       "      <td>0</td>\n",
       "      <td>44.709677</td>\n",
       "    </tr>\n",
       "    <tr>\n",
       "      <th>1</th>\n",
       "      <td>1</td>\n",
       "      <td>39.387097</td>\n",
       "    </tr>\n",
       "    <tr>\n",
       "      <th>2</th>\n",
       "      <td>2</td>\n",
       "      <td>37.419355</td>\n",
       "    </tr>\n",
       "    <tr>\n",
       "      <th>3</th>\n",
       "      <td>3</td>\n",
       "      <td>37.000000</td>\n",
       "    </tr>\n",
       "    <tr>\n",
       "      <th>4</th>\n",
       "      <td>4</td>\n",
       "      <td>34.709677</td>\n",
       "    </tr>\n",
       "    <tr>\n",
       "      <th>5</th>\n",
       "      <td>5</td>\n",
       "      <td>34.290323</td>\n",
       "    </tr>\n",
       "    <tr>\n",
       "      <th>6</th>\n",
       "      <td>6</td>\n",
       "      <td>32.677419</td>\n",
       "    </tr>\n",
       "    <tr>\n",
       "      <th>7</th>\n",
       "      <td>7</td>\n",
       "      <td>32.483871</td>\n",
       "    </tr>\n",
       "    <tr>\n",
       "      <th>8</th>\n",
       "      <td>8</td>\n",
       "      <td>33.322581</td>\n",
       "    </tr>\n",
       "    <tr>\n",
       "      <th>9</th>\n",
       "      <td>9</td>\n",
       "      <td>34.064516</td>\n",
       "    </tr>\n",
       "    <tr>\n",
       "      <th>10</th>\n",
       "      <td>10</td>\n",
       "      <td>39.548387</td>\n",
       "    </tr>\n",
       "    <tr>\n",
       "      <th>11</th>\n",
       "      <td>11</td>\n",
       "      <td>40.354839</td>\n",
       "    </tr>\n",
       "    <tr>\n",
       "      <th>12</th>\n",
       "      <td>12</td>\n",
       "      <td>39.548387</td>\n",
       "    </tr>\n",
       "    <tr>\n",
       "      <th>13</th>\n",
       "      <td>13</td>\n",
       "      <td>41.387097</td>\n",
       "    </tr>\n",
       "    <tr>\n",
       "      <th>14</th>\n",
       "      <td>14</td>\n",
       "      <td>43.000000</td>\n",
       "    </tr>\n",
       "    <tr>\n",
       "      <th>15</th>\n",
       "      <td>15</td>\n",
       "      <td>46.161290</td>\n",
       "    </tr>\n",
       "    <tr>\n",
       "      <th>16</th>\n",
       "      <td>16</td>\n",
       "      <td>46.612903</td>\n",
       "    </tr>\n",
       "    <tr>\n",
       "      <th>17</th>\n",
       "      <td>17</td>\n",
       "      <td>50.258065</td>\n",
       "    </tr>\n",
       "    <tr>\n",
       "      <th>18</th>\n",
       "      <td>18</td>\n",
       "      <td>51.354839</td>\n",
       "    </tr>\n",
       "    <tr>\n",
       "      <th>19</th>\n",
       "      <td>19</td>\n",
       "      <td>49.032258</td>\n",
       "    </tr>\n",
       "    <tr>\n",
       "      <th>20</th>\n",
       "      <td>20</td>\n",
       "      <td>46.677419</td>\n",
       "    </tr>\n",
       "    <tr>\n",
       "      <th>21</th>\n",
       "      <td>21</td>\n",
       "      <td>44.161290</td>\n",
       "    </tr>\n",
       "    <tr>\n",
       "      <th>22</th>\n",
       "      <td>22</td>\n",
       "      <td>44.258065</td>\n",
       "    </tr>\n",
       "    <tr>\n",
       "      <th>23</th>\n",
       "      <td>23</td>\n",
       "      <td>45.129032</td>\n",
       "    </tr>\n",
       "  </tbody>\n",
       "</table>\n",
       "</div>"
      ],
      "text/plain": [
       "    hour  avg_plays_per_hour\n",
       "0      0           44.709677\n",
       "1      1           39.387097\n",
       "2      2           37.419355\n",
       "3      3           37.000000\n",
       "4      4           34.709677\n",
       "5      5           34.290323\n",
       "6      6           32.677419\n",
       "7      7           32.483871\n",
       "8      8           33.322581\n",
       "9      9           34.064516\n",
       "10    10           39.548387\n",
       "11    11           40.354839\n",
       "12    12           39.548387\n",
       "13    13           41.387097\n",
       "14    14           43.000000\n",
       "15    15           46.161290\n",
       "16    16           46.612903\n",
       "17    17           50.258065\n",
       "18    18           51.354839\n",
       "19    19           49.032258\n",
       "20    20           46.677419\n",
       "21    21           44.161290\n",
       "22    22           44.258065\n",
       "23    23           45.129032"
      ]
     },
     "execution_count": 18,
     "metadata": {},
     "output_type": "execute_result"
    }
   ],
   "source": [
    "# Get Paid Churned User count\n",
    "clean_df.createOrReplaceTempView(\"myView\")\n",
    "ret_val = spark.sql('''\n",
    "          SELECT COUNT(DISTINCT userId) as churned_paid_count FROM myView WHERE churned=1 and level=\"paid\"\n",
    "          '''\n",
    "          ).collect()\n",
    "churned_paid_count = ret_val[0][\"churned_paid_count\"]\n",
    "print(churned_paid_count)\n",
    "\n",
    "# Get Avg Plays Per Hour from Paid Churn Users\n",
    "clean_df.createOrReplaceTempView(\"myView\")\n",
    "query = 'SELECT hour, COUNT(*)/{} AS avg_plays_per_hour FROM myView \\\n",
    "WHERE page=\"NextSong\" AND userId IN \\\n",
    "(SELECT DISTINCT userId FROM myView WHERE churned=1 and level=\"paid\") \\\n",
    "GROUP BY hour ORDER BY hour'.format(churned_paid_count)\n",
    "\n",
    "paid_churn_pph = spark.sql(query)\n",
    "paid_churn_pph_pd = paid_churn_pph.toPandas()\n",
    "paid_churn_pph_pd"
   ]
  },
  {
   "cell_type": "code",
   "execution_count": 19,
   "metadata": {},
   "outputs": [
    {
     "data": {
      "image/png": "[encoded data removed]",
      "text/plain": [
       "<matplotlib.figure.Figure at 0x7f6f2e0577b8>"
      ]
     },
     "metadata": {
      "needs_background": "light"
     },
     "output_type": "display_data"
    }
   ],
   "source": [
    "# Scatter plot of average song played per hour per user group type\n",
    "plt.scatter(nonchurn_paid_pph_pd[\"hour\"], nonchurn_paid_pph_pd[\"avg_plays_per_hour\"], color='green', label=\"Paid Active Users\")\n",
    "plt.scatter(nonchurn_free_pph_pd[\"hour\"], nonchurn_free_pph_pd[\"avg_plays_per_hour\"], color='blue', label=\"Free Active Users\")\n",
    "plt.scatter(downgrade_pph_pd[\"hour\"], downgrade_pph_pd[\"avg_plays_per_hour\"], color='yellow', label=\"Downgraded Users\")\n",
    "plt.scatter(free_churn_pph_pd[\"hour\"], free_churn_pph_pd[\"avg_plays_per_hour\"], color='orange', label=\"Free Canceled Users\")\n",
    "plt.scatter(paid_churn_pph_pd[\"hour\"], paid_churn_pph_pd[\"avg_plays_per_hour\"], color='red', label=\"Paid Canceled Users\")\n",
    "plt.xlim(-1, 24)\n",
    "plt.ylim(0, 1.1 * max(downgrade_pph_pd[\"avg_plays_per_hour\"]))\n",
    "plt.xlabel(\"Hour\")\n",
    "plt.ylabel(\"Avg Songs Played\")\n",
    "plt.title('Avg Songs per Hour by Users')\n",
    "plt.legend()\n",
    "plt.show()"
   ]
  },
  {
   "cell_type": "markdown",
   "metadata": {},
   "source": [
    "**Initial Analysis Based on Songs and User Churn**\n",
    "\n",
    "From the above we can see that paid users that churn (red) listen about 10-20% less on average than users who don't (green). This is expected- users who are not using the service as regularly are not seeing value and are canceling.\n",
    "\n",
    "Unexpectedly though, it appears that users who downgrade (yellow) are actually heavy users who listen to about 30-50% more as many songs on average than the average paid user who stays (green). A possible reason could be that heavy users could be drawn to another type of service, so they are downgrading.\n",
    "\n",
    "Looking about activity for the free user accounts- it initially appears difficult to see a trend corresponding to active vs. cancelled free accounts- free users have much less activity than others.\n",
    "\n",
    "In the next phase I'll do some additional feature engineering and use a decision tree ensamble (Random Forest) to see if I can get some good seperation among the user classes."
   ]
  },
  {
   "cell_type": "markdown",
   "metadata": {},
   "source": [
    "# Feature Engineering\n",
    "Once you've familiarized yourself with the data, build out the features you find promising to train your model on. To work with the full dataset, you can follow the following steps.\n",
    "- Write a script to extract the necessary features from the smaller subset of data\n",
    "- Ensure that your script is scalable, using the best practices discussed in Lesson 3\n",
    "- Try your script on the full data set, debugging your script if necessary\n",
    "\n",
    "If you are working in the classroom workspace, you can just extract features based on the small subset of data contained here. Be sure to transfer over this work to the larger dataset when you work on your Spark cluster."
   ]
  },
  {
   "cell_type": "code",
   "execution_count": 85,
   "metadata": {},
   "outputs": [
    {
     "name": "stdout",
     "output_type": "stream",
     "text": [
      "+-------+------------------+\n",
      "|summary|       UserTimeBin|\n",
      "+-------+------------------+\n",
      "|  count|            278154|\n",
      "|   mean|4.1316069515448275|\n",
      "| stddev| 3.015903664558201|\n",
      "|    min|                 0|\n",
      "|    max|                18|\n",
      "+-------+------------------+\n",
      "\n"
     ]
    }
   ],
   "source": [
    "# Since most subscriptions are likely monthly based - I'm going to look at activity in a two week period\n",
    "# And try to predict if there will be churn in the next two week bin\n",
    "# Also this will help to normalize or smooth out issues that might arise from day to day usage variations (wkends) \n",
    "# Note: I can always come back and re-adjust to be something more granular like weekly bins\n",
    "\n",
    "# UserTimeBin will be the floor of DaysSinceRegistration value divided by 14\n",
    "user_timebin = udf(lambda x: int(x/14), IntegerType())\n",
    "clean_df = clean_df.withColumn(\"UserTimeBin\", user_timebin(\"DaysSinceRegistration\"))\n",
    "\n",
    "# Look at distribution of time for accounts\n",
    "clean_df.describe(\"UserTimeBin\").show()\n",
    "\n",
    "\n",
    "# New records should look like:\n",
    "# UserId | UserTimeBin (continuous Int) | ChurnedInTimeBin (0/1) | DowngradedInTimeBin (0/1) | PrevDowngraded (0/1) |\n",
    "# SessionCountInTimeBin (continuous Int) | ... \n",
    "# Other features to consider:\n",
    "# Count of visits to each page (one-hot-encode) within UserTimeBin\n",
    "## Sub-features: page visit count, songs played count, error count, friend adds, playlist adds, help count\n",
    "# AvgSessionTime, AvgSongsPerSession, etc \"Avg\" features within UserTimeBin and/or Total\n",
    "# TotalTimeSinceRegistration (continuous), TotalSessions, etc \"Total\" features\n",
    "\n",
    "# To get items in session: Group By sessionId and get max(itemInSession)"
   ]
  },
  {
   "cell_type": "code",
   "execution_count": 86,
   "metadata": {},
   "outputs": [
    {
     "data": {
      "text/plain": [
       "' For reference:\\nroot\\n |-- artist: string (nullable = true)\\n |-- auth: string (nullable = true)\\n |-- firstName: string (nullable = true)\\n |-- gender: string (nullable = true)\\n |-- itemInSession: long (nullable = true)\\n |-- lastName: string (nullable = true)\\n |-- length: double (nullable = true)\\n |-- level: string (nullable = true)\\n |-- location: string (nullable = true)\\n |-- method: string (nullable = true)\\n |-- page: string (nullable = true)\\n |-- registration: long (nullable = true)\\n |-- sessionId: long (nullable = true)\\n |-- song: string (nullable = true)\\n |-- status: long (nullable = true)\\n |-- ts: long (nullable = true)\\n |-- userAgent: string (nullable = true)\\n |-- userId: string (nullable = true)\\n'"
      ]
     },
     "execution_count": 86,
     "metadata": {},
     "output_type": "execute_result"
    }
   ],
   "source": [
    "''' For reference:\n",
    "root\n",
    " |-- artist: string (nullable = true)\n",
    " |-- auth: string (nullable = true)\n",
    " |-- firstName: string (nullable = true)\n",
    " |-- gender: string (nullable = true)\n",
    " |-- itemInSession: long (nullable = true)\n",
    " |-- lastName: string (nullable = true)\n",
    " |-- length: double (nullable = true)\n",
    " |-- level: string (nullable = true)\n",
    " |-- location: string (nullable = true)\n",
    " |-- method: string (nullable = true)\n",
    " |-- page: string (nullable = true)\n",
    " |-- registration: long (nullable = true)\n",
    " |-- sessionId: long (nullable = true)\n",
    " |-- song: string (nullable = true)\n",
    " |-- status: long (nullable = true)\n",
    " |-- ts: long (nullable = true)\n",
    " |-- userAgent: string (nullable = true)\n",
    " |-- userId: string (nullable = true)\n",
    "'''"
   ]
  },
  {
   "cell_type": "code",
   "execution_count": 87,
   "metadata": {},
   "outputs": [
    {
     "name": "stdout",
     "output_type": "stream",
     "text": [
      "+------+-----------+-------------+-------------+----------------+-------------------+-----------------+-----------------------+\n",
      "|UserId|UserTimeBin|PaidInTimeBin|FreeInTimeBin|ChurnedInTimeBin|DowngradedInTimeBin|UpgradedInTimeBin|DaysRegisteredAtTimeBin|\n",
      "+------+-----------+-------------+-------------+----------------+-------------------+-----------------+-----------------------+\n",
      "|   113|          4|            1|            1|               0|                  0|                1|              63.569595|\n",
      "|    69|          1|            1|            1|               0|                  0|                1|              20.437963|\n",
      "|300002|          7|            1|            0|               0|                  0|                0|               98.33795|\n",
      "|   134|          1|            0|            1|               0|                  0|                0|               15.10559|\n",
      "|   109|          5|            1|            0|               0|                  0|                0|               70.12762|\n",
      "+------+-----------+-------------+-------------+----------------+-------------------+-----------------+-----------------------+\n",
      "only showing top 5 rows\n",
      "\n"
     ]
    }
   ],
   "source": [
    "# Now add in timebin features - such as whether or not user churned or downgraded in timebin\n",
    "clean_df.createOrReplaceTempView(\"myView\")\n",
    "query='''\n",
    "SELECT UserId, UserTimeBin,\n",
    "        MAX(IF(level=\"paid\", 1, 0)) AS PaidInTimeBin,\n",
    "        MAX(IF(level=\"free\", 1, 0)) AS FreeInTimeBin,\n",
    "        MAX(IF(page=\"Cancellation Confirmation\", 1, 0)) AS ChurnedInTimeBin,  \n",
    "        MAX(IF(page=\"Submit Downgrade\", 1, 0)) AS DowngradedInTimeBin,\n",
    "        MAX(IF(page=\"Submit Upgrade\", 1, 0)) AS UpgradedInTimeBin,\n",
    "        MIN(DaysSinceRegistration) AS DaysRegisteredAtTimeBin\n",
    "        FROM myView GROUP BY UserId, UserTimeBin \n",
    "'''\n",
    "resulting_df = spark.sql(query)\n",
    "#resulting_df.describe().show()\n",
    "resulting_df.show(n=5)\n"
   ]
  },
  {
   "cell_type": "code",
   "execution_count": 88,
   "metadata": {},
   "outputs": [
    {
     "name": "stdout",
     "output_type": "stream",
     "text": [
      "+------+-----------+------------------+\n",
      "|UserId|UserTimeBin|WillChurnInNextBin|\n",
      "+------+-----------+------------------+\n",
      "|   143|          3|                 1|\n",
      "|   105|          1|                 1|\n",
      "|100023|          1|                 1|\n",
      "|200020|          4|                 1|\n",
      "|    53|          2|                 1|\n",
      "+------+-----------+------------------+\n",
      "only showing top 5 rows\n",
      "\n"
     ]
    }
   ],
   "source": [
    "resulting_df.createOrReplaceTempView(\"resultingView\")\n",
    "churnInNextBin_query = '''\n",
    "SELECT resultingView.UserId, resultingView.UserTimeBin FROM\n",
    "    resultingView,\n",
    "    (SELECT UserId, UserTimeBin FROM resultingView WHERE ChurnedInTimeBin=1) AS churnedUserBins\n",
    "WHERE resultingView.UserId=churnedUserBins.UserId AND resultingView.UserTimeBin=(churnedUserBins.UserTimeBin-1)\n",
    "'''\n",
    "churnedInNextBin_df = spark.sql(churnInNextBin_query)\n",
    "churnedInNextBin_df = churnedInNextBin_df.withColumn(\"WillChurnInNextBin\", lit(1))\n",
    "churnedInNextBin_df.show(n=5)"
   ]
  },
  {
   "cell_type": "code",
   "execution_count": 89,
   "metadata": {},
   "outputs": [
    {
     "data": {
      "text/plain": [
       "39"
      ]
     },
     "execution_count": 89,
     "metadata": {},
     "output_type": "execute_result"
    }
   ],
   "source": [
    "churnedInNextBin_df.count()"
   ]
  },
  {
   "cell_type": "code",
   "execution_count": 90,
   "metadata": {},
   "outputs": [
    {
     "name": "stdout",
     "output_type": "stream",
     "text": [
      "+------+-----------+-------------+-------------+----------------+-------------------+-----------------+-----------------------+------------------+\n",
      "|UserId|UserTimeBin|PaidInTimeBin|FreeInTimeBin|ChurnedInTimeBin|DowngradedInTimeBin|UpgradedInTimeBin|DaysRegisteredAtTimeBin|WillChurnInNextBin|\n",
      "+------+-----------+-------------+-------------+----------------+-------------------+-----------------+-----------------------+------------------+\n",
      "|   113|          4|            1|            1|               0|                  0|                1|              63.569595|                 0|\n",
      "|300002|          7|            1|            0|               0|                  0|                0|               98.33795|                 0|\n",
      "|    69|          1|            1|            1|               0|                  0|                1|              20.437963|                 0|\n",
      "|   109|          5|            1|            0|               0|                  0|                0|               70.12762|                 0|\n",
      "|   134|          1|            0|            1|               0|                  0|                0|               15.10559|                 0|\n",
      "|200011|          5|            0|            1|               0|                  0|                0|               78.75586|                 0|\n",
      "|300006|          4|            0|            1|               0|                  0|                0|               60.19772|                 0|\n",
      "|    99|          8|            1|            0|               0|                  0|                0|             112.657524|                 0|\n",
      "|    93|          4|            1|            1|               0|                  0|                1|              56.948357|                 0|\n",
      "|   114|          4|            1|            0|               0|                  0|                0|              56.889816|                 0|\n",
      "+------+-----------+-------------+-------------+----------------+-------------------+-----------------+-----------------------+------------------+\n",
      "only showing top 10 rows\n",
      "\n"
     ]
    }
   ],
   "source": [
    "resulting_df = resulting_df.join(churnedInNextBin_df, [\"UserId\",\"UserTimeBin\"], 'left')\n",
    "resulting_df = resulting_df.na.fill(0)\n",
    "resulting_df.show(n=10)"
   ]
  },
  {
   "cell_type": "code",
   "execution_count": 91,
   "metadata": {},
   "outputs": [
    {
     "name": "stdout",
     "output_type": "stream",
     "text": [
      "+------+-----------+--------------+\n",
      "|UserId|UserTimeBin|PrevDowngraded|\n",
      "+------+-----------+--------------+\n",
      "|    54|          7|             1|\n",
      "|    54|          6|             1|\n",
      "|    11|          7|             1|\n",
      "|    11|          6|             1|\n",
      "|    11|          8|             1|\n",
      "+------+-----------+--------------+\n",
      "only showing top 5 rows\n",
      "\n"
     ]
    }
   ],
   "source": [
    "resulting_df.createOrReplaceTempView(\"resultingView\")\n",
    "prevDowngradedQuery = '''\n",
    "SELECT resultingView.UserId, resultingView.UserTimeBin FROM \n",
    "    resultingView,\n",
    "    (SELECT UserId, UserTimeBin FROM resultingView WHERE DowngradedInTimeBin=1) AS downgradedUserBins\n",
    "WHERE resultingView.UserId=downgradedUserBins.UserId AND resultingView.UserTimeBin>downgradedUserBins.UserTimeBin\n",
    "'''\n",
    "prevDowngraded_df = spark.sql(prevDowngradedQuery)\n",
    "prevDowngraded_df = prevDowngraded_df.withColumn(\"PrevDowngraded\", lit(1))\n",
    "prevDowngraded_df.show(n=5)"
   ]
  },
  {
   "cell_type": "code",
   "execution_count": 92,
   "metadata": {},
   "outputs": [
    {
     "data": {
      "text/plain": [
       "120"
      ]
     },
     "execution_count": 92,
     "metadata": {},
     "output_type": "execute_result"
    }
   ],
   "source": [
    "prevDowngraded_df.count()"
   ]
  },
  {
   "cell_type": "code",
   "execution_count": 93,
   "metadata": {},
   "outputs": [
    {
     "name": "stdout",
     "output_type": "stream",
     "text": [
      "+------+-----------+-------------+-------------+----------------+-------------------+-----------------+-----------------------+------------------+--------------+\n",
      "|UserId|UserTimeBin|PaidInTimeBin|FreeInTimeBin|ChurnedInTimeBin|DowngradedInTimeBin|UpgradedInTimeBin|DaysRegisteredAtTimeBin|WillChurnInNextBin|PrevDowngraded|\n",
      "+------+-----------+-------------+-------------+----------------+-------------------+-----------------+-----------------------+------------------+--------------+\n",
      "|   113|          4|            1|            1|               0|                  0|                1|              63.569595|                 0|             0|\n",
      "|300002|          7|            1|            0|               0|                  0|                0|               98.33795|                 0|             1|\n",
      "|    69|          1|            1|            1|               0|                  0|                1|              20.437963|                 0|             0|\n",
      "|   109|          5|            1|            0|               0|                  0|                0|               70.12762|                 0|             0|\n",
      "|   134|          1|            0|            1|               0|                  0|                0|               15.10559|                 0|             0|\n",
      "+------+-----------+-------------+-------------+----------------+-------------------+-----------------+-----------------------+------------------+--------------+\n",
      "only showing top 5 rows\n",
      "\n"
     ]
    }
   ],
   "source": [
    "resulting_df = resulting_df.join(prevDowngraded_df, [\"UserId\",\"UserTimeBin\"], 'left')\n",
    "resulting_df = resulting_df.na.fill(0)\n",
    "resulting_df.show(n=5)"
   ]
  },
  {
   "cell_type": "code",
   "execution_count": 94,
   "metadata": {},
   "outputs": [
    {
     "data": {
      "text/plain": [
       "861"
      ]
     },
     "execution_count": 94,
     "metadata": {},
     "output_type": "execute_result"
    }
   ],
   "source": [
    "resulting_df.count() # TODO: debug why there are 4 more rows??"
   ]
  },
  {
   "cell_type": "code",
   "execution_count": 95,
   "metadata": {},
   "outputs": [
    {
     "name": "stdout",
     "output_type": "stream",
     "text": [
      "+------+-----------+-----+----------+---------------+------+-------------------------+---------+-----+----+----+------+--------+-----------+-------------+--------+----------------+--------------+-----------+---------+-------+\n",
      "|UserId|UserTimeBin|About|Add Friend|Add to Playlist|Cancel|Cancellation Confirmation|Downgrade|Error|Help|Home|Logout|NextSong|Roll Advert|Save Settings|Settings|Submit Downgrade|Submit Upgrade|Thumbs Down|Thumbs Up|Upgrade|\n",
      "+------+-----------+-----+----------+---------------+------+-------------------------+---------+-----+----+----+------+--------+-----------+-------------+--------+----------------+--------------+-----------+---------+-------+\n",
      "|   113|          4|    0|         5|              2|     0|                        0|        1|    0|   0|   8|     0|      88|          1|            1|       1|               0|             1|          2|        5|      4|\n",
      "|300002|          7|    0|         9|             19|     0|                        0|        3|    0|   5|  15|     4|     470|          0|            0|       2|               0|             0|          4|       29|      0|\n",
      "|    69|          1|    0|         4|              2|     0|                        0|        0|    0|   2|   4|     1|     120|          2|            0|       1|               0|             1|          1|        6|      1|\n",
      "|300006|          4|    1|         1|              3|     0|                        0|        0|    0|   1|   6|     3|      83|          9|            0|       0|               0|             0|          0|       12|      1|\n",
      "|   134|          1|    0|         0|              0|     0|                        0|        0|    0|   0|   0|     1|      12|          2|            0|       0|               0|             0|          0|        1|      0|\n",
      "+------+-----------+-----+----------+---------------+------+-------------------------+---------+-----+----+----+------+--------+-----------+-------------+--------+----------------+--------------+-----------+---------+-------+\n",
      "only showing top 5 rows\n",
      "\n"
     ]
    }
   ],
   "source": [
    "page_df = clean_df.groupBy(\"UserId\",\"UserTimeBin\").pivot(\"page\").count()\n",
    "page_df = page_df.na.fill(0)\n",
    "page_df.show(n=5)"
   ]
  },
  {
   "cell_type": "code",
   "execution_count": 96,
   "metadata": {},
   "outputs": [
    {
     "name": "stdout",
     "output_type": "stream",
     "text": [
      "+------+-----------+-------------+-------------+----------------+-------------------+-----------------+-----------------------+------------------+--------------+-----+----------+---------------+------+-------------------------+---------+-----+----+----+------+--------+-----------+-------------+--------+----------------+--------------+-----------+---------+-------+\n",
      "|UserId|UserTimeBin|PaidInTimeBin|FreeInTimeBin|ChurnedInTimeBin|DowngradedInTimeBin|UpgradedInTimeBin|DaysRegisteredAtTimeBin|WillChurnInNextBin|PrevDowngraded|About|Add Friend|Add to Playlist|Cancel|Cancellation Confirmation|Downgrade|Error|Help|Home|Logout|NextSong|Roll Advert|Save Settings|Settings|Submit Downgrade|Submit Upgrade|Thumbs Down|Thumbs Up|Upgrade|\n",
      "+------+-----------+-------------+-------------+----------------+-------------------+-----------------+-----------------------+------------------+--------------+-----+----------+---------------+------+-------------------------+---------+-----+----+----+------+--------+-----------+-------------+--------+----------------+--------------+-----------+---------+-------+\n",
      "|   113|          4|            1|            1|               0|                  0|                1|              63.569595|                 0|             0|    0|         5|              2|     0|                        0|        1|    0|   0|   8|     0|      88|          1|            1|       1|               0|             1|          2|        5|      4|\n",
      "|300002|          7|            1|            0|               0|                  0|                0|               98.33795|                 0|             1|    0|         9|             19|     0|                        0|        3|    0|   5|  15|     4|     470|          0|            0|       2|               0|             0|          4|       29|      0|\n",
      "|    69|          1|            1|            1|               0|                  0|                1|              20.437963|                 0|             0|    0|         4|              2|     0|                        0|        0|    0|   2|   4|     1|     120|          2|            0|       1|               0|             1|          1|        6|      1|\n",
      "|   109|          5|            1|            0|               0|                  0|                0|               70.12762|                 0|             0|    1|         8|             11|     0|                        0|        5|    0|   7|  11|     5|     363|          0|            0|       2|               0|             0|          2|       14|      0|\n",
      "|   134|          1|            0|            1|               0|                  0|                0|               15.10559|                 0|             0|    0|         0|              0|     0|                        0|        0|    0|   0|   0|     1|      12|          2|            0|       0|               0|             0|          0|        1|      0|\n",
      "+------+-----------+-------------+-------------+----------------+-------------------+-----------------+-----------------------+------------------+--------------+-----+----------+---------------+------+-------------------------+---------+-----+----+----+------+--------+-----------+-------------+--------+----------------+--------------+-----------+---------+-------+\n",
      "only showing top 5 rows\n",
      "\n"
     ]
    }
   ],
   "source": [
    "# Start joining\n",
    "resulting_df = resulting_df.join(page_df, [\"UserId\", \"UserTimeBin\"], 'inner')\n",
    "resulting_df.show(n=5)"
   ]
  },
  {
   "cell_type": "code",
   "execution_count": 97,
   "metadata": {},
   "outputs": [
    {
     "name": "stdout",
     "output_type": "stream",
     "text": [
      "+------+-----------+-----------------+\n",
      "|UserId|UserTimeBin|SessionsInTimeBin|\n",
      "+------+-----------+-----------------+\n",
      "|    69|          1|                2|\n",
      "|300002|          7|                5|\n",
      "|   113|          4|                3|\n",
      "|   109|          5|                3|\n",
      "|300006|          4|                2|\n",
      "+------+-----------+-----------------+\n",
      "only showing top 5 rows\n",
      "\n"
     ]
    }
   ],
   "source": [
    "# And distinct session count within the timebin\n",
    "query='''\n",
    "SELECT UserId, UserTimeBin, COUNT(DISTINCT(sessionId)) as SessionsInTimeBin FROM myView GROUP BY UserId, UserTimeBin\n",
    "'''\n",
    "session_df = spark.sql(query)\n",
    "session_df.show(n=5)\n",
    "\n",
    "# And distinct artist count within timebin\n",
    "query='''\n",
    "SELECT UserId, UserTimeBin, COUNT(DISTINCT(artist)) as ArtistsInTimeBin FROM myView GROUP BY UserId, UserTimeBin\n",
    "'''\n",
    "artist_df = spark.sql(query)\n",
    "\n",
    "# And distinct songs within timebin\n",
    "query='''\n",
    "SELECT UserId, UserTimeBin, COUNT(DISTINCT(song)) as DistinctSongsInTimeBin FROM myView GROUP BY UserId, UserTimeBin\n",
    "'''\n",
    "songs_df = spark.sql(query)"
   ]
  },
  {
   "cell_type": "code",
   "execution_count": 98,
   "metadata": {},
   "outputs": [
    {
     "name": "stdout",
     "output_type": "stream",
     "text": [
      "+------+-----------+-------------+-------------+----------------+-------------------+-----------------+-----------------------+------------------+--------------+-----+----------+---------------+------+-------------------------+---------+-----+----+----+------+--------+-----------+-------------+--------+----------------+--------------+-----------+---------+-------+-----------------+----------------+----------------------+\n",
      "|UserId|UserTimeBin|PaidInTimeBin|FreeInTimeBin|ChurnedInTimeBin|DowngradedInTimeBin|UpgradedInTimeBin|DaysRegisteredAtTimeBin|WillChurnInNextBin|PrevDowngraded|About|Add Friend|Add to Playlist|Cancel|Cancellation Confirmation|Downgrade|Error|Help|Home|Logout|NextSong|Roll Advert|Save Settings|Settings|Submit Downgrade|Submit Upgrade|Thumbs Down|Thumbs Up|Upgrade|SessionsInTimeBin|ArtistsInTimeBin|DistinctSongsInTimeBin|\n",
      "+------+-----------+-------------+-------------+----------------+-------------------+-----------------+-----------------------+------------------+--------------+-----+----------+---------------+------+-------------------------+---------+-----+----+----+------+--------+-----------+-------------+--------+----------------+--------------+-----------+---------+-------+-----------------+----------------+----------------------+\n",
      "|   113|          4|            1|            1|               0|                  0|                1|              63.569595|                 0|             0|    0|         5|              2|     0|                        0|        1|    0|   0|   8|     0|      88|          1|            1|       1|               0|             1|          2|        5|      4|                3|              85|                    87|\n",
      "|300002|          7|            1|            0|               0|                  0|                0|               98.33795|                 0|             1|    0|         9|             19|     0|                        0|        3|    0|   5|  15|     4|     470|          0|            0|       2|               0|             0|          4|       29|      0|                5|             390|                   445|\n",
      "|    69|          1|            1|            1|               0|                  0|                1|              20.437963|                 0|             0|    0|         4|              2|     0|                        0|        0|    0|   2|   4|     1|     120|          2|            0|       1|               0|             1|          1|        6|      1|                2|             112|                   119|\n",
      "|   109|          5|            1|            0|               0|                  0|                0|               70.12762|                 0|             0|    1|         8|             11|     0|                        0|        5|    0|   7|  11|     5|     363|          0|            0|       2|               0|             0|          2|       14|      0|                3|             323|                   360|\n",
      "|   134|          1|            0|            1|               0|                  0|                0|               15.10559|                 0|             0|    0|         0|              0|     0|                        0|        0|    0|   0|   0|     1|      12|          2|            0|       0|               0|             0|          0|        1|      0|                1|              12|                    12|\n",
      "+------+-----------+-------------+-------------+----------------+-------------------+-----------------+-----------------------+------------------+--------------+-----+----------+---------------+------+-------------------------+---------+-----+----+----+------+--------+-----------+-------------+--------+----------------+--------------+-----------+---------+-------+-----------------+----------------+----------------------+\n",
      "only showing top 5 rows\n",
      "\n"
     ]
    }
   ],
   "source": [
    "# Joining\n",
    "resulting_df = resulting_df.join(session_df, [\"UserId\",\"UserTimeBin\"], 'inner')\n",
    "resulting_df = resulting_df.join(artist_df, [\"UserId\",\"UserTimeBin\"], 'inner')\n",
    "resulting_df = resulting_df.join(songs_df, [\"UserId\",\"UserTimeBin\"], 'inner')\n",
    "resulting_df.show(n=5)"
   ]
  },
  {
   "cell_type": "code",
   "execution_count": 99,
   "metadata": {},
   "outputs": [
    {
     "name": "stdout",
     "output_type": "stream",
     "text": [
      "+------+-----------+-------------+-------------+----------------+-------------------+-----------------+-----------------------+------------------+--------------+-----+----------+---------------+------+-------------------------+---------+-----+----+----+------+--------+-----------+-------------+--------+----------------+--------------+-----------+---------+-------+-----------------+----------------+----------------------+\n",
      "|UserId|UserTimeBin|PaidInTimeBin|FreeInTimeBin|ChurnedInTimeBin|DowngradedInTimeBin|UpgradedInTimeBin|DaysRegisteredAtTimeBin|WillChurnInNextBin|PrevDowngraded|About|Add Friend|Add to Playlist|Cancel|Cancellation Confirmation|Downgrade|Error|Help|Home|Logout|NextSong|Roll Advert|Save Settings|Settings|Submit Downgrade|Submit Upgrade|Thumbs Down|Thumbs Up|Upgrade|SessionsInTimeBin|ArtistsInTimeBin|DistinctSongsInTimeBin|\n",
      "+------+-----------+-------------+-------------+----------------+-------------------+-----------------+-----------------------+------------------+--------------+-----+----------+---------------+------+-------------------------+---------+-----+----+----+------+--------+-----------+-------------+--------+----------------+--------------+-----------+---------+-------+-----------------+----------------+----------------------+\n",
      "|     0|          0|            0|            0|               0|                  0|                0|                      0|                 0|             0|    0|         0|              0|     0|                        0|        0|    0|   0|   0|     0|       0|          0|            0|       0|               0|             0|          0|        0|      0|                0|               0|                     0|\n",
      "+------+-----------+-------------+-------------+----------------+-------------------+-----------------+-----------------------+------------------+--------------+-----+----------+---------------+------+-------------------------+---------+-----+----+----+------+--------+-----------+-------------+--------+----------------+--------------+-----------+---------+-------+-----------------+----------------+----------------------+\n",
      "\n"
     ]
    }
   ],
   "source": [
    "# Quick check for any nulls or nanas\n",
    "# Ref: https://stackoverflow.com/questions/44627386/how-to-find-count-of-null-and-nan-values-for-each-column-in-a-pyspark-dataframe?rq=1\n",
    "from pyspark.sql.functions import isnan, when, count, col\n",
    "resulting_df.select([count(when(isnan(c) | col(c).isNull(), c)).alias(c) for c in resulting_df.columns]).show()"
   ]
  },
  {
   "cell_type": "code",
   "execution_count": 100,
   "metadata": {},
   "outputs": [
    {
     "name": "stdout",
     "output_type": "stream",
     "text": [
      "root\n",
      " |-- UserId: string (nullable = true)\n",
      " |-- UserTimeBin: integer (nullable = true)\n",
      " |-- PaidInTimeBin: integer (nullable = true)\n",
      " |-- FreeInTimeBin: integer (nullable = true)\n",
      " |-- ChurnedInTimeBin: integer (nullable = true)\n",
      " |-- DowngradedInTimeBin: integer (nullable = true)\n",
      " |-- UpgradedInTimeBin: integer (nullable = true)\n",
      " |-- DaysRegisteredAtTimeBin: float (nullable = false)\n",
      " |-- WillChurnInNextBin: integer (nullable = true)\n",
      " |-- PrevDowngraded: integer (nullable = true)\n",
      " |-- About: long (nullable = true)\n",
      " |-- Add Friend: long (nullable = true)\n",
      " |-- Add to Playlist: long (nullable = true)\n",
      " |-- Cancel: long (nullable = true)\n",
      " |-- Downgrade: long (nullable = true)\n",
      " |-- Error: long (nullable = true)\n",
      " |-- Help: long (nullable = true)\n",
      " |-- Home: long (nullable = true)\n",
      " |-- Logout: long (nullable = true)\n",
      " |-- NextSong: long (nullable = true)\n",
      " |-- Roll Advert: long (nullable = true)\n",
      " |-- Save Settings: long (nullable = true)\n",
      " |-- Settings: long (nullable = true)\n",
      " |-- Thumbs Down: long (nullable = true)\n",
      " |-- Thumbs Up: long (nullable = true)\n",
      " |-- Upgrade: long (nullable = true)\n",
      " |-- SessionsInTimeBin: long (nullable = false)\n",
      " |-- ArtistsInTimeBin: long (nullable = false)\n",
      " |-- DistinctSongsInTimeBin: long (nullable = false)\n",
      "\n"
     ]
    }
   ],
   "source": [
    "# Remove duplicative columns\n",
    "resulting_df = resulting_df.drop(\"Submit Downgrade\", \"Submit Upgrade\", \"Cancellation Confirmation\")\n",
    "resulting_df.printSchema()"
   ]
  },
  {
   "cell_type": "code",
   "execution_count": 101,
   "metadata": {},
   "outputs": [
    {
     "name": "stdout",
     "output_type": "stream",
     "text": [
      "root\n",
      " |-- UserId: integer (nullable = true)\n",
      " |-- UserTimeBin: integer (nullable = true)\n",
      " |-- PaidInTimeBin: integer (nullable = true)\n",
      " |-- FreeInTimeBin: integer (nullable = true)\n",
      " |-- ChurnedInTimeBin: integer (nullable = true)\n",
      " |-- DowngradedInTimeBin: integer (nullable = true)\n",
      " |-- UpgradedInTimeBin: integer (nullable = true)\n",
      " |-- DaysRegisteredAtTimeBin: integer (nullable = true)\n",
      " |-- WillChurnInNextBin: integer (nullable = true)\n",
      " |-- PrevDowngraded: integer (nullable = true)\n",
      " |-- About: integer (nullable = true)\n",
      " |-- Add Friend: integer (nullable = true)\n",
      " |-- Add to Playlist: integer (nullable = true)\n",
      " |-- Cancel: integer (nullable = true)\n",
      " |-- Downgrade: integer (nullable = true)\n",
      " |-- Error: integer (nullable = true)\n",
      " |-- Help: integer (nullable = true)\n",
      " |-- Home: integer (nullable = true)\n",
      " |-- Logout: integer (nullable = true)\n",
      " |-- NextSong: integer (nullable = true)\n",
      " |-- Roll Advert: integer (nullable = true)\n",
      " |-- Save Settings: integer (nullable = true)\n",
      " |-- Settings: integer (nullable = true)\n",
      " |-- Thumbs Down: integer (nullable = true)\n",
      " |-- Thumbs Up: integer (nullable = true)\n",
      " |-- Upgrade: integer (nullable = true)\n",
      " |-- SessionsInTimeBin: integer (nullable = false)\n",
      " |-- ArtistsInTimeBin: integer (nullable = false)\n",
      " |-- DistinctSongsInTimeBin: integer (nullable = false)\n",
      "\n"
     ]
    }
   ],
   "source": [
    "resulting_df = resulting_df.select([col(c).cast(\"integer\") for c in resulting_df.columns])\n",
    "resulting_df.printSchema()"
   ]
  },
  {
   "cell_type": "code",
   "execution_count": 102,
   "metadata": {},
   "outputs": [
    {
     "name": "stdout",
     "output_type": "stream",
     "text": [
      "+------+-----------+-------------+-------------+----------------+-------------------+-----------------+-----------------------+------------------+--------------+-----+----------+---------------+------+---------+-----+----+----+------+--------+-----------+-------------+--------+-----------+---------+-------+-----------------+----------------+----------------------+\n",
      "|UserId|UserTimeBin|PaidInTimeBin|FreeInTimeBin|ChurnedInTimeBin|DowngradedInTimeBin|UpgradedInTimeBin|DaysRegisteredAtTimeBin|WillChurnInNextBin|PrevDowngraded|About|Add Friend|Add to Playlist|Cancel|Downgrade|Error|Help|Home|Logout|NextSong|Roll Advert|Save Settings|Settings|Thumbs Down|Thumbs Up|Upgrade|SessionsInTimeBin|ArtistsInTimeBin|DistinctSongsInTimeBin|\n",
      "+------+-----------+-------------+-------------+----------------+-------------------+-----------------+-----------------------+------------------+--------------+-----+----------+---------------+------+---------+-----+----+----+------+--------+-----------+-------------+--------+-----------+---------+-------+-----------------+----------------+----------------------+\n",
      "|   113|          4|            1|            1|               0|                  0|                1|                     63|                 0|             0|    0|         5|              2|     0|        1|    0|   0|   8|     0|      88|          1|            1|       1|          2|        5|      4|                3|              85|                    87|\n",
      "|300002|          7|            1|            0|               0|                  0|                0|                     98|                 0|             1|    0|         9|             19|     0|        3|    0|   5|  15|     4|     470|          0|            0|       2|          4|       29|      0|                5|             390|                   445|\n",
      "|    69|          1|            1|            1|               0|                  0|                1|                     20|                 0|             0|    0|         4|              2|     0|        0|    0|   2|   4|     1|     120|          2|            0|       1|          1|        6|      1|                2|             112|                   119|\n",
      "|   109|          5|            1|            0|               0|                  0|                0|                     70|                 0|             0|    1|         8|             11|     0|        5|    0|   7|  11|     5|     363|          0|            0|       2|          2|       14|      0|                3|             323|                   360|\n",
      "|   134|          1|            0|            1|               0|                  0|                0|                     15|                 0|             0|    0|         0|              0|     0|        0|    0|   0|   0|     1|      12|          2|            0|       0|          0|        1|      0|                1|              12|                    12|\n",
      "+------+-----------+-------------+-------------+----------------+-------------------+-----------------+-----------------------+------------------+--------------+-----+----------+---------------+------+---------+-----+----+----+------+--------+-----------+-------------+--------+-----------+---------+-------+-----------------+----------------+----------------------+\n",
      "only showing top 5 rows\n",
      "\n"
     ]
    }
   ],
   "source": [
    "resulting_df.show(n=5)"
   ]
  },
  {
   "cell_type": "code",
   "execution_count": 103,
   "metadata": {},
   "outputs": [],
   "source": [
    "# Create an epoch day column - note ts is in milliseconds, so need a divide by 1000\n",
    "#get_epoch_day = udf(lambda x: int(((x / 1000.0) / (60.0 * 60.0 * 24.0))), IntegerType())\n",
    "#clean_df = clean_df.withColumn(\"epoch_day\", get_epoch_day(\"ts\"))\n",
    "#clean_df.head()"
   ]
  },
  {
   "cell_type": "markdown",
   "metadata": {},
   "source": [
    "# Modeling\n",
    "Split the full dataset into train, test, and validation sets. Test out several of the machine learning methods you learned. Evaluate the accuracy of the various models, tuning parameters as necessary. Determine your winning model based on test accuracy and report results on the validation set. Since the churned users are a fairly small subset, I suggest using F1 score as the metric to optimize."
   ]
  },
  {
   "cell_type": "code",
   "execution_count": 104,
   "metadata": {},
   "outputs": [],
   "source": [
    "#train, test = resulting_df.randomSplit([0.8, 0.2])"
   ]
  },
  {
   "cell_type": "code",
   "execution_count": 105,
   "metadata": {},
   "outputs": [],
   "source": [
    "from pyspark.ml import Pipeline\n",
    "from pyspark.ml.feature import StringIndexer, VectorAssembler\n",
    "\n",
    "stages = [] # stages in our Pipeline\n",
    "\n",
    "# Convert label into label indices using the StringIndexer\n",
    "label_stringIdx = StringIndexer(inputCol=\"WillChurnInNextBin\", outputCol=\"label\")\n",
    "stages += [label_stringIdx]\n",
    "\n",
    "# Transform all features into a vector using VectorAssembler\n",
    "assemblerInputs = [\"DaysRegisteredAtTimeBin\", \"PaidInTimeBin\", \"FreeInTimeBin\", \"ChurnedInTimeBin\", \n",
    "                   \"DowngradedInTimeBin\", \"UpgradedInTimeBin\", \"PrevDowngraded\", \"About\", \"Add Friend\", \n",
    "                   \"Add to Playlist\", \"Cancel\", \"Downgrade\", \"Error\", \"Help\", \"Home\", \"Logout\", \"NextSong\", \n",
    "                   \"Roll Advert\", \"Save Settings\", \"Settings\", \"Thumbs Down\", \"Thumbs Up\",\n",
    "                   \"Upgrade\", \"SessionsInTimeBin\", \"ArtistsInTimeBin\", \"DistinctSongsInTimeBin\"]\n",
    "assembler = VectorAssembler(inputCols=assemblerInputs, outputCol=\"features\")\n",
    "stages += [assembler]\n",
    "\n"
   ]
  },
  {
   "cell_type": "code",
   "execution_count": 106,
   "metadata": {},
   "outputs": [],
   "source": [
    "from pyspark.ml.classification import LogisticRegression\n",
    "  \n",
    "partialPipeline = Pipeline().setStages(stages)\n",
    "pipelineModel = partialPipeline.fit(resulting_df)\n",
    "preppedDataDF = pipelineModel.transform(resulting_df)\n"
   ]
  },
  {
   "cell_type": "code",
   "execution_count": 107,
   "metadata": {},
   "outputs": [
    {
     "data": {
      "text/plain": [
       "LogisticRegression_46d2bac1a0d9a785d240"
      ]
     },
     "metadata": {},
     "output_type": "display_data"
    },
    {
     "data": {
      "text/plain": [
       "DataFrame[UserId: int, UserTimeBin: int, PaidInTimeBin: int, FreeInTimeBin: int, ChurnedInTimeBin: int, DowngradedInTimeBin: int, UpgradedInTimeBin: int, DaysRegisteredAtTimeBin: int, WillChurnInNextBin: int, PrevDowngraded: int, About: int, Add Friend: int, Add to Playlist: int, Cancel: int, Downgrade: int, Error: int, Help: int, Home: int, Logout: int, NextSong: int, Roll Advert: int, Save Settings: int, Settings: int, Thumbs Down: int, Thumbs Up: int, Upgrade: int, SessionsInTimeBin: int, ArtistsInTimeBin: int, DistinctSongsInTimeBin: int, label: double, features: vector]"
      ]
     },
     "metadata": {},
     "output_type": "display_data"
    }
   ],
   "source": [
    "# Fit model to prepped data\n",
    "lrModel = LogisticRegression().fit(preppedDataDF)\n",
    "\n",
    "# ROC for training data\n",
    "display(lrModel, preppedDataDF)"
   ]
  },
  {
   "cell_type": "code",
   "execution_count": 108,
   "metadata": {},
   "outputs": [
    {
     "data": {
      "text/plain": [
       "DataFrame[label: double, features: vector]"
      ]
     },
     "metadata": {},
     "output_type": "display_data"
    },
    {
     "name": "stdout",
     "output_type": "stream",
     "text": [
      "+-----+--------------------+\n",
      "|label|            features|\n",
      "+-----+--------------------+\n",
      "|  0.0|[63.0,1.0,1.0,0.0...|\n",
      "|  0.0|(26,[0,1,6,8,9,11...|\n",
      "|  0.0|[20.0,1.0,1.0,0.0...|\n",
      "|  0.0|(26,[0,1,7,8,9,11...|\n",
      "|  0.0|(26,[0,2,15,16,17...|\n",
      "+-----+--------------------+\n",
      "only showing top 5 rows\n",
      "\n"
     ]
    }
   ],
   "source": [
    "# Keep relevant columns\n",
    "selectedcols = [\"label\", \"features\"]\n",
    "dataset = preppedDataDF.select(selectedcols)\n",
    "display(dataset)\n",
    "dataset.show(n=5)"
   ]
  },
  {
   "cell_type": "code",
   "execution_count": 109,
   "metadata": {},
   "outputs": [
    {
     "name": "stdout",
     "output_type": "stream",
     "text": [
      "Training Dataset Count: 677\n",
      "Test Dataset Count: 184\n"
     ]
    }
   ],
   "source": [
    "train, test = dataset.randomSplit([0.8, 0.2])\n",
    "print(\"Training Dataset Count: \" + str(train.count()))\n",
    "print(\"Test Dataset Count: \" + str(test.count()))"
   ]
  },
  {
   "cell_type": "code",
   "execution_count": 110,
   "metadata": {},
   "outputs": [],
   "source": [
    "from pyspark.ml.classification import LogisticRegression\n",
    "lr = LogisticRegression(featuresCol = 'features', labelCol = 'label', maxIter=10)\n",
    "lrModel = lr.fit(train)"
   ]
  },
  {
   "cell_type": "code",
   "execution_count": 111,
   "metadata": {},
   "outputs": [
    {
     "data": {
      "image/png": "[encoded data removed]",
      "text/plain": [
       "<matplotlib.figure.Figure at 0x7f6f25edb358>"
      ]
     },
     "metadata": {
      "needs_background": "light"
     },
     "output_type": "display_data"
    },
    {
     "name": "stdout",
     "output_type": "stream",
     "text": [
      "Training set areaUnderROC: 0.7897982622590632\n"
     ]
    }
   ],
   "source": [
    "trainingSummary = lrModel.summary\n",
    "roc = trainingSummary.roc.toPandas()\n",
    "plt.plot(roc['FPR'],roc['TPR'])\n",
    "plt.ylabel('False Positive Rate')\n",
    "plt.xlabel('True Positive Rate')\n",
    "plt.title('ROC Curve')\n",
    "plt.show()\n",
    "print('Training set areaUnderROC: ' + str(trainingSummary.areaUnderROC))"
   ]
  },
  {
   "cell_type": "code",
   "execution_count": 112,
   "metadata": {},
   "outputs": [
    {
     "data": {
      "image/png": "[encoded data removed]",
      "text/plain": [
       "<matplotlib.figure.Figure at 0x7f6f25f3def0>"
      ]
     },
     "metadata": {
      "needs_background": "light"
     },
     "output_type": "display_data"
    }
   ],
   "source": [
    "pr = trainingSummary.pr.toPandas()\n",
    "plt.plot(pr['recall'],pr['precision'])\n",
    "plt.ylabel('Precision')\n",
    "plt.xlabel('Recall')\n",
    "plt.show()"
   ]
  },
  {
   "cell_type": "code",
   "execution_count": 113,
   "metadata": {},
   "outputs": [],
   "source": [
    "# Make predictions on test data using the transform() method.\n",
    "# LogisticRegression.transform() will only use the 'features' column.\n",
    "predictions = lrModel.transform(test)"
   ]
  },
  {
   "cell_type": "code",
   "execution_count": 124,
   "metadata": {},
   "outputs": [
    {
     "data": {
      "text/plain": [
       "0.05393310753916797"
      ]
     },
     "execution_count": 124,
     "metadata": {},
     "output_type": "execute_result"
    }
   ],
   "source": [
    "from pyspark.ml.evaluation import BinaryClassificationEvaluator\n",
    "\n",
    "# Evaluate model\n",
    "evaluator = BinaryClassificationEvaluator(rawPredictionCol=\"rawPrediction\", metricName = 'areaUnderPR')\n",
    "evaluator.evaluate(predictions)"
   ]
  },
  {
   "cell_type": "code",
   "execution_count": 125,
   "metadata": {},
   "outputs": [
    {
     "data": {
      "text/plain": [
       "'areaUnderPR'"
      ]
     },
     "execution_count": 125,
     "metadata": {},
     "output_type": "execute_result"
    }
   ],
   "source": [
    "evaluator.getMetricName() \n",
    "# The recommendation is to use F1, but the Spark docs only have that for multiclass classification"
   ]
  },
  {
   "cell_type": "code",
   "execution_count": 116,
   "metadata": {},
   "outputs": [
    {
     "name": "stdout",
     "output_type": "stream",
     "text": [
      "aggregationDepth: suggested depth for treeAggregate (>= 2). (default: 2)\n",
      "elasticNetParam: the ElasticNet mixing parameter, in range [0, 1]. For alpha = 0, the penalty is an L2 penalty. For alpha = 1, it is an L1 penalty. (default: 0.0)\n",
      "family: The name of family which is a description of the label distribution to be used in the model. Supported options: auto, binomial, multinomial (default: auto)\n",
      "featuresCol: features column name. (default: features, current: features)\n",
      "fitIntercept: whether to fit an intercept term. (default: True)\n",
      "labelCol: label column name. (default: label, current: label)\n",
      "lowerBoundsOnCoefficients: The lower bounds on coefficients if fitting under bound constrained optimization. The bound matrix must be compatible with the shape (1, number of features) for binomial regression, or (number of classes, number of features) for multinomial regression. (undefined)\n",
      "lowerBoundsOnIntercepts: The lower bounds on intercepts if fitting under bound constrained optimization. The bounds vector size must beequal with 1 for binomial regression, or the number oflasses for multinomial regression. (undefined)\n",
      "maxIter: max number of iterations (>= 0). (default: 100, current: 10)\n",
      "predictionCol: prediction column name. (default: prediction)\n",
      "probabilityCol: Column name for predicted class conditional probabilities. Note: Not all models output well-calibrated probability estimates! These probabilities should be treated as confidences, not precise probabilities. (default: probability)\n",
      "rawPredictionCol: raw prediction (a.k.a. confidence) column name. (default: rawPrediction)\n",
      "regParam: regularization parameter (>= 0). (default: 0.0)\n",
      "standardization: whether to standardize the training features before fitting the model. (default: True)\n",
      "threshold: Threshold in binary classification prediction, in range [0, 1]. If threshold and thresholds are both set, they must match.e.g. if threshold is p, then thresholds must be equal to [1-p, p]. (default: 0.5)\n",
      "thresholds: Thresholds in multi-class classification to adjust the probability of predicting each class. Array must have length equal to the number of classes, with values > 0, excepting that at most one value may be 0. The class with largest value p/t is predicted, where p is the original probability of that class and t is the class's threshold. (undefined)\n",
      "tol: the convergence tolerance for iterative algorithms (>= 0). (default: 1e-06)\n",
      "upperBoundsOnCoefficients: The upper bounds on coefficients if fitting under bound constrained optimization. The bound matrix must be compatible with the shape (1, number of features) for binomial regression, or (number of classes, number of features) for multinomial regression. (undefined)\n",
      "upperBoundsOnIntercepts: The upper bounds on intercepts if fitting under bound constrained optimization. The bound vector size must be equal with 1 for binomial regression, or the number of classes for multinomial regression. (undefined)\n",
      "weightCol: weight column name. If this is not set or empty, we treat all instance weights as 1.0. (undefined)\n"
     ]
    }
   ],
   "source": [
    "print(lr.explainParams())"
   ]
  },
  {
   "cell_type": "code",
   "execution_count": 117,
   "metadata": {},
   "outputs": [],
   "source": [
    "from pyspark.ml.tuning import ParamGridBuilder, CrossValidator\n",
    "\n",
    "# Create ParamGrid for Cross Validation\n",
    "paramGrid = (ParamGridBuilder()\n",
    "             .addGrid(lr.regParam, [0.01, 0.5, 2.0])\n",
    "             .addGrid(lr.elasticNetParam, [0.0, 0.5, 1.0])\n",
    "             .addGrid(lr.maxIter, [1, 5, 10])\n",
    "             .build())"
   ]
  },
  {
   "cell_type": "code",
   "execution_count": 119,
   "metadata": {},
   "outputs": [],
   "source": [
    "# Create 5-fold CrossValidator\n",
    "cv = CrossValidator(estimator=lr, estimatorParamMaps=paramGrid, evaluator=evaluator, numFolds=5)\n",
    "\n",
    "# Run cross validations\n",
    "cvModel = cv.fit(train)\n",
    "# this will likely take a fair amount of time because of the amount of models that we're creating and testing\n"
   ]
  },
  {
   "cell_type": "code",
   "execution_count": 121,
   "metadata": {},
   "outputs": [],
   "source": [
    "# Use test set to measure the accuracy of our model on new data\n",
    "predictions = cvModel.transform(test)"
   ]
  },
  {
   "cell_type": "code",
   "execution_count": 122,
   "metadata": {},
   "outputs": [
    {
     "data": {
      "text/plain": [
       "0.5916193181818169"
      ]
     },
     "execution_count": 122,
     "metadata": {},
     "output_type": "execute_result"
    }
   ],
   "source": [
    "# cvModel uses the best model found from the Cross Validation\n",
    "# Evaluate best model\n",
    "evaluator.evaluate(predictions)"
   ]
  },
  {
   "cell_type": "code",
   "execution_count": 127,
   "metadata": {},
   "outputs": [
    {
     "ename": "KeyboardInterrupt",
     "evalue": "",
     "output_type": "error",
     "traceback": [
      "\u001b[0;31m---------------------------------------------------------------------------\u001b[0m",
      "\u001b[0;31mIndexError\u001b[0m                                Traceback (most recent call last)",
      "\u001b[0;32m/opt/conda/lib/python3.6/multiprocessing/pool.py\u001b[0m in \u001b[0;36mnext\u001b[0;34m(self, timeout)\u001b[0m\n\u001b[1;32m    719\u001b[0m             \u001b[0;32mtry\u001b[0m\u001b[0;34m:\u001b[0m\u001b[0;34m\u001b[0m\u001b[0m\n\u001b[0;32m--> 720\u001b[0;31m                 \u001b[0mitem\u001b[0m \u001b[0;34m=\u001b[0m \u001b[0mself\u001b[0m\u001b[0;34m.\u001b[0m\u001b[0m_items\u001b[0m\u001b[0;34m.\u001b[0m\u001b[0mpopleft\u001b[0m\u001b[0;34m(\u001b[0m\u001b[0;34m)\u001b[0m\u001b[0;34m\u001b[0m\u001b[0m\n\u001b[0m\u001b[1;32m    721\u001b[0m             \u001b[0;32mexcept\u001b[0m \u001b[0mIndexError\u001b[0m\u001b[0;34m:\u001b[0m\u001b[0;34m\u001b[0m\u001b[0m\n",
      "\u001b[0;31mIndexError\u001b[0m: pop from an empty deque",
      "\nDuring handling of the above exception, another exception occurred:\n",
      "\u001b[0;31mKeyboardInterrupt\u001b[0m                         Traceback (most recent call last)",
      "\u001b[0;32m<ipython-input-127-2fd9e102c501>\u001b[0m in \u001b[0;36m<module>\u001b[0;34m()\u001b[0m\n\u001b[1;32m     12\u001b[0m \u001b[0;34m\u001b[0m\u001b[0m\n\u001b[1;32m     13\u001b[0m \u001b[0;31m# Run cross validations\u001b[0m\u001b[0;34m\u001b[0m\u001b[0;34m\u001b[0m\u001b[0m\n\u001b[0;32m---> 14\u001b[0;31m \u001b[0mcvModel\u001b[0m \u001b[0;34m=\u001b[0m \u001b[0mcv\u001b[0m\u001b[0;34m.\u001b[0m\u001b[0mfit\u001b[0m\u001b[0;34m(\u001b[0m\u001b[0mtrain\u001b[0m\u001b[0;34m)\u001b[0m\u001b[0;34m\u001b[0m\u001b[0m\n\u001b[0m\u001b[1;32m     15\u001b[0m \u001b[0mtrainingSummary\u001b[0m \u001b[0;34m=\u001b[0m \u001b[0mcvModel\u001b[0m\u001b[0;34m.\u001b[0m\u001b[0msummary\u001b[0m\u001b[0;34m\u001b[0m\u001b[0m\n\u001b[1;32m     16\u001b[0m \u001b[0mprint\u001b[0m\u001b[0;34m(\u001b[0m\u001b[0;34m'Training set AUC: '\u001b[0m \u001b[0;34m+\u001b[0m \u001b[0mstr\u001b[0m\u001b[0;34m(\u001b[0m\u001b[0mtrainingSummary\u001b[0m\u001b[0;34m.\u001b[0m\u001b[0mareaUnderPR\u001b[0m\u001b[0;34m)\u001b[0m\u001b[0;34m)\u001b[0m\u001b[0;34m\u001b[0m\u001b[0m\n",
      "\u001b[0;32m/opt/conda/lib/python3.6/site-packages/pyspark/ml/base.py\u001b[0m in \u001b[0;36mfit\u001b[0;34m(self, dataset, params)\u001b[0m\n\u001b[1;32m    130\u001b[0m                 \u001b[0;32mreturn\u001b[0m \u001b[0mself\u001b[0m\u001b[0;34m.\u001b[0m\u001b[0mcopy\u001b[0m\u001b[0;34m(\u001b[0m\u001b[0mparams\u001b[0m\u001b[0;34m)\u001b[0m\u001b[0;34m.\u001b[0m\u001b[0m_fit\u001b[0m\u001b[0;34m(\u001b[0m\u001b[0mdataset\u001b[0m\u001b[0;34m)\u001b[0m\u001b[0;34m\u001b[0m\u001b[0m\n\u001b[1;32m    131\u001b[0m             \u001b[0;32melse\u001b[0m\u001b[0;34m:\u001b[0m\u001b[0;34m\u001b[0m\u001b[0m\n\u001b[0;32m--> 132\u001b[0;31m                 \u001b[0;32mreturn\u001b[0m \u001b[0mself\u001b[0m\u001b[0;34m.\u001b[0m\u001b[0m_fit\u001b[0m\u001b[0;34m(\u001b[0m\u001b[0mdataset\u001b[0m\u001b[0;34m)\u001b[0m\u001b[0;34m\u001b[0m\u001b[0m\n\u001b[0m\u001b[1;32m    133\u001b[0m         \u001b[0;32melse\u001b[0m\u001b[0;34m:\u001b[0m\u001b[0;34m\u001b[0m\u001b[0m\n\u001b[1;32m    134\u001b[0m             raise ValueError(\"Params must be either a param map or a list/tuple of param maps, \"\n",
      "\u001b[0;32m/opt/conda/lib/python3.6/site-packages/pyspark/ml/tuning.py\u001b[0m in \u001b[0;36m_fit\u001b[0;34m(self, dataset)\u001b[0m\n\u001b[1;32m    290\u001b[0m \u001b[0;34m\u001b[0m\u001b[0m\n\u001b[1;32m    291\u001b[0m             \u001b[0mtasks\u001b[0m \u001b[0;34m=\u001b[0m \u001b[0m_parallelFitTasks\u001b[0m\u001b[0;34m(\u001b[0m\u001b[0mest\u001b[0m\u001b[0;34m,\u001b[0m \u001b[0mtrain\u001b[0m\u001b[0;34m,\u001b[0m \u001b[0meva\u001b[0m\u001b[0;34m,\u001b[0m \u001b[0mvalidation\u001b[0m\u001b[0;34m,\u001b[0m \u001b[0mepm\u001b[0m\u001b[0;34m)\u001b[0m\u001b[0;34m\u001b[0m\u001b[0m\n\u001b[0;32m--> 292\u001b[0;31m             \u001b[0;32mfor\u001b[0m \u001b[0mj\u001b[0m\u001b[0;34m,\u001b[0m \u001b[0mmetric\u001b[0m \u001b[0;32min\u001b[0m \u001b[0mpool\u001b[0m\u001b[0;34m.\u001b[0m\u001b[0mimap_unordered\u001b[0m\u001b[0;34m(\u001b[0m\u001b[0;32mlambda\u001b[0m \u001b[0mf\u001b[0m\u001b[0;34m:\u001b[0m \u001b[0mf\u001b[0m\u001b[0;34m(\u001b[0m\u001b[0;34m)\u001b[0m\u001b[0;34m,\u001b[0m \u001b[0mtasks\u001b[0m\u001b[0;34m)\u001b[0m\u001b[0;34m:\u001b[0m\u001b[0;34m\u001b[0m\u001b[0m\n\u001b[0m\u001b[1;32m    293\u001b[0m                 \u001b[0mmetrics\u001b[0m\u001b[0;34m[\u001b[0m\u001b[0mj\u001b[0m\u001b[0;34m]\u001b[0m \u001b[0;34m+=\u001b[0m \u001b[0;34m(\u001b[0m\u001b[0mmetric\u001b[0m \u001b[0;34m/\u001b[0m \u001b[0mnFolds\u001b[0m\u001b[0;34m)\u001b[0m\u001b[0;34m\u001b[0m\u001b[0m\n\u001b[1;32m    294\u001b[0m             \u001b[0mvalidation\u001b[0m\u001b[0;34m.\u001b[0m\u001b[0munpersist\u001b[0m\u001b[0;34m(\u001b[0m\u001b[0;34m)\u001b[0m\u001b[0;34m\u001b[0m\u001b[0m\n",
      "\u001b[0;32m/opt/conda/lib/python3.6/multiprocessing/pool.py\u001b[0m in \u001b[0;36mnext\u001b[0;34m(self, timeout)\u001b[0m\n\u001b[1;32m    722\u001b[0m                 \u001b[0;32mif\u001b[0m \u001b[0mself\u001b[0m\u001b[0;34m.\u001b[0m\u001b[0m_index\u001b[0m \u001b[0;34m==\u001b[0m \u001b[0mself\u001b[0m\u001b[0;34m.\u001b[0m\u001b[0m_length\u001b[0m\u001b[0;34m:\u001b[0m\u001b[0;34m\u001b[0m\u001b[0m\n\u001b[1;32m    723\u001b[0m                     \u001b[0;32mraise\u001b[0m \u001b[0mStopIteration\u001b[0m\u001b[0;34m\u001b[0m\u001b[0m\n\u001b[0;32m--> 724\u001b[0;31m                 \u001b[0mself\u001b[0m\u001b[0;34m.\u001b[0m\u001b[0m_cond\u001b[0m\u001b[0;34m.\u001b[0m\u001b[0mwait\u001b[0m\u001b[0;34m(\u001b[0m\u001b[0mtimeout\u001b[0m\u001b[0;34m)\u001b[0m\u001b[0;34m\u001b[0m\u001b[0m\n\u001b[0m\u001b[1;32m    725\u001b[0m                 \u001b[0;32mtry\u001b[0m\u001b[0;34m:\u001b[0m\u001b[0;34m\u001b[0m\u001b[0m\n\u001b[1;32m    726\u001b[0m                     \u001b[0mitem\u001b[0m \u001b[0;34m=\u001b[0m \u001b[0mself\u001b[0m\u001b[0;34m.\u001b[0m\u001b[0m_items\u001b[0m\u001b[0;34m.\u001b[0m\u001b[0mpopleft\u001b[0m\u001b[0;34m(\u001b[0m\u001b[0;34m)\u001b[0m\u001b[0;34m\u001b[0m\u001b[0m\n",
      "\u001b[0;32m/opt/conda/lib/python3.6/threading.py\u001b[0m in \u001b[0;36mwait\u001b[0;34m(self, timeout)\u001b[0m\n\u001b[1;32m    293\u001b[0m         \u001b[0;32mtry\u001b[0m\u001b[0;34m:\u001b[0m    \u001b[0;31m# restore state no matter what (e.g., KeyboardInterrupt)\u001b[0m\u001b[0;34m\u001b[0m\u001b[0m\n\u001b[1;32m    294\u001b[0m             \u001b[0;32mif\u001b[0m \u001b[0mtimeout\u001b[0m \u001b[0;32mis\u001b[0m \u001b[0;32mNone\u001b[0m\u001b[0;34m:\u001b[0m\u001b[0;34m\u001b[0m\u001b[0m\n\u001b[0;32m--> 295\u001b[0;31m                 \u001b[0mwaiter\u001b[0m\u001b[0;34m.\u001b[0m\u001b[0macquire\u001b[0m\u001b[0;34m(\u001b[0m\u001b[0;34m)\u001b[0m\u001b[0;34m\u001b[0m\u001b[0m\n\u001b[0m\u001b[1;32m    296\u001b[0m                 \u001b[0mgotit\u001b[0m \u001b[0;34m=\u001b[0m \u001b[0;32mTrue\u001b[0m\u001b[0;34m\u001b[0m\u001b[0m\n\u001b[1;32m    297\u001b[0m             \u001b[0;32melse\u001b[0m\u001b[0;34m:\u001b[0m\u001b[0;34m\u001b[0m\u001b[0m\n",
      "\u001b[0;31mKeyboardInterrupt\u001b[0m: "
     ]
    }
   ],
   "source": [
    "lr = LogisticRegression(featuresCol = 'features', labelCol = 'label')\n",
    "evaluator = BinaryClassificationEvaluator(rawPredictionCol=\"rawPrediction\")\n",
    "\n",
    "paramGrid = (ParamGridBuilder()\n",
    "             .addGrid(lr.regParam, [0.0, 0.01, 0.05, 0.1, 0.5, 1.0])\n",
    "             .addGrid(lr.elasticNetParam, [0.0, 0.01, 0.05, 0.1, 0.25])\n",
    "             .addGrid(lr.maxIter, [5, 10, 25])\n",
    "             .build())\n",
    "\n",
    "\n",
    "cv = CrossValidator(estimator=lr, estimatorParamMaps=paramGrid, evaluator=evaluator, numFolds=5)\n",
    "\n",
    "# Run cross validations\n",
    "cvModel = cv.fit(train)\n",
    "trainingSummary = cvModel.summary\n",
    "print('Training set AUC: ' + str(trainingSummary.areaUnderPR))\n",
    "\n",
    "# Use test set to measure the accuracy of our model on new data\n",
    "predictions = cvModel.transform(test)\n",
    "print('Test set AUC: ' + str(evaluator.evaluate(predictions)))\n",
    "\n",
    "# Print best model info\n",
    "print('Model Intercept: ', cvModel.bestModel.intercept)"
   ]
  },
  {
   "cell_type": "code",
   "execution_count": 129,
   "metadata": {},
   "outputs": [
    {
     "ename": "KeyboardInterrupt",
     "evalue": "",
     "output_type": "error",
     "traceback": [
      "\u001b[0;31m---------------------------------------------------------------------------\u001b[0m",
      "\u001b[0;31mIndexError\u001b[0m                                Traceback (most recent call last)",
      "\u001b[0;32m/opt/conda/lib/python3.6/multiprocessing/pool.py\u001b[0m in \u001b[0;36mnext\u001b[0;34m(self, timeout)\u001b[0m\n\u001b[1;32m    719\u001b[0m             \u001b[0;32mtry\u001b[0m\u001b[0;34m:\u001b[0m\u001b[0;34m\u001b[0m\u001b[0m\n\u001b[0;32m--> 720\u001b[0;31m                 \u001b[0mitem\u001b[0m \u001b[0;34m=\u001b[0m \u001b[0mself\u001b[0m\u001b[0;34m.\u001b[0m\u001b[0m_items\u001b[0m\u001b[0;34m.\u001b[0m\u001b[0mpopleft\u001b[0m\u001b[0;34m(\u001b[0m\u001b[0;34m)\u001b[0m\u001b[0;34m\u001b[0m\u001b[0m\n\u001b[0m\u001b[1;32m    721\u001b[0m             \u001b[0;32mexcept\u001b[0m \u001b[0mIndexError\u001b[0m\u001b[0;34m:\u001b[0m\u001b[0;34m\u001b[0m\u001b[0m\n",
      "\u001b[0;31mIndexError\u001b[0m: pop from an empty deque",
      "\nDuring handling of the above exception, another exception occurred:\n",
      "\u001b[0;31mKeyboardInterrupt\u001b[0m                         Traceback (most recent call last)",
      "\u001b[0;32m<ipython-input-129-5bdbabf2c1dc>\u001b[0m in \u001b[0;36m<module>\u001b[0;34m()\u001b[0m\n\u001b[1;32m     14\u001b[0m \u001b[0;34m\u001b[0m\u001b[0m\n\u001b[1;32m     15\u001b[0m \u001b[0;31m# Run cross validations\u001b[0m\u001b[0;34m\u001b[0m\u001b[0;34m\u001b[0m\u001b[0m\n\u001b[0;32m---> 16\u001b[0;31m \u001b[0mcvModel\u001b[0m \u001b[0;34m=\u001b[0m \u001b[0mcv\u001b[0m\u001b[0;34m.\u001b[0m\u001b[0mfit\u001b[0m\u001b[0;34m(\u001b[0m\u001b[0mtrain\u001b[0m\u001b[0;34m)\u001b[0m\u001b[0;34m\u001b[0m\u001b[0m\n\u001b[0m\u001b[1;32m     17\u001b[0m \u001b[0mtrainingSummary\u001b[0m \u001b[0;34m=\u001b[0m \u001b[0mcvModel\u001b[0m\u001b[0;34m.\u001b[0m\u001b[0msummary\u001b[0m\u001b[0;34m\u001b[0m\u001b[0m\n\u001b[1;32m     18\u001b[0m \u001b[0mprint\u001b[0m\u001b[0;34m(\u001b[0m\u001b[0;34m'Training set AUC: '\u001b[0m \u001b[0;34m+\u001b[0m \u001b[0mstr\u001b[0m\u001b[0;34m(\u001b[0m\u001b[0mtrainingSummary\u001b[0m\u001b[0;34m.\u001b[0m\u001b[0mareaUnderPR\u001b[0m\u001b[0;34m)\u001b[0m\u001b[0;34m)\u001b[0m\u001b[0;34m\u001b[0m\u001b[0m\n",
      "\u001b[0;32m/opt/conda/lib/python3.6/site-packages/pyspark/ml/base.py\u001b[0m in \u001b[0;36mfit\u001b[0;34m(self, dataset, params)\u001b[0m\n\u001b[1;32m    130\u001b[0m                 \u001b[0;32mreturn\u001b[0m \u001b[0mself\u001b[0m\u001b[0;34m.\u001b[0m\u001b[0mcopy\u001b[0m\u001b[0;34m(\u001b[0m\u001b[0mparams\u001b[0m\u001b[0;34m)\u001b[0m\u001b[0;34m.\u001b[0m\u001b[0m_fit\u001b[0m\u001b[0;34m(\u001b[0m\u001b[0mdataset\u001b[0m\u001b[0;34m)\u001b[0m\u001b[0;34m\u001b[0m\u001b[0m\n\u001b[1;32m    131\u001b[0m             \u001b[0;32melse\u001b[0m\u001b[0;34m:\u001b[0m\u001b[0;34m\u001b[0m\u001b[0m\n\u001b[0;32m--> 132\u001b[0;31m                 \u001b[0;32mreturn\u001b[0m \u001b[0mself\u001b[0m\u001b[0;34m.\u001b[0m\u001b[0m_fit\u001b[0m\u001b[0;34m(\u001b[0m\u001b[0mdataset\u001b[0m\u001b[0;34m)\u001b[0m\u001b[0;34m\u001b[0m\u001b[0m\n\u001b[0m\u001b[1;32m    133\u001b[0m         \u001b[0;32melse\u001b[0m\u001b[0;34m:\u001b[0m\u001b[0;34m\u001b[0m\u001b[0m\n\u001b[1;32m    134\u001b[0m             raise ValueError(\"Params must be either a param map or a list/tuple of param maps, \"\n",
      "\u001b[0;32m/opt/conda/lib/python3.6/site-packages/pyspark/ml/tuning.py\u001b[0m in \u001b[0;36m_fit\u001b[0;34m(self, dataset)\u001b[0m\n\u001b[1;32m    290\u001b[0m \u001b[0;34m\u001b[0m\u001b[0m\n\u001b[1;32m    291\u001b[0m             \u001b[0mtasks\u001b[0m \u001b[0;34m=\u001b[0m \u001b[0m_parallelFitTasks\u001b[0m\u001b[0;34m(\u001b[0m\u001b[0mest\u001b[0m\u001b[0;34m,\u001b[0m \u001b[0mtrain\u001b[0m\u001b[0;34m,\u001b[0m \u001b[0meva\u001b[0m\u001b[0;34m,\u001b[0m \u001b[0mvalidation\u001b[0m\u001b[0;34m,\u001b[0m \u001b[0mepm\u001b[0m\u001b[0;34m)\u001b[0m\u001b[0;34m\u001b[0m\u001b[0m\n\u001b[0;32m--> 292\u001b[0;31m             \u001b[0;32mfor\u001b[0m \u001b[0mj\u001b[0m\u001b[0;34m,\u001b[0m \u001b[0mmetric\u001b[0m \u001b[0;32min\u001b[0m \u001b[0mpool\u001b[0m\u001b[0;34m.\u001b[0m\u001b[0mimap_unordered\u001b[0m\u001b[0;34m(\u001b[0m\u001b[0;32mlambda\u001b[0m \u001b[0mf\u001b[0m\u001b[0;34m:\u001b[0m \u001b[0mf\u001b[0m\u001b[0;34m(\u001b[0m\u001b[0;34m)\u001b[0m\u001b[0;34m,\u001b[0m \u001b[0mtasks\u001b[0m\u001b[0;34m)\u001b[0m\u001b[0;34m:\u001b[0m\u001b[0;34m\u001b[0m\u001b[0m\n\u001b[0m\u001b[1;32m    293\u001b[0m                 \u001b[0mmetrics\u001b[0m\u001b[0;34m[\u001b[0m\u001b[0mj\u001b[0m\u001b[0;34m]\u001b[0m \u001b[0;34m+=\u001b[0m \u001b[0;34m(\u001b[0m\u001b[0mmetric\u001b[0m \u001b[0;34m/\u001b[0m \u001b[0mnFolds\u001b[0m\u001b[0;34m)\u001b[0m\u001b[0;34m\u001b[0m\u001b[0m\n\u001b[1;32m    294\u001b[0m             \u001b[0mvalidation\u001b[0m\u001b[0;34m.\u001b[0m\u001b[0munpersist\u001b[0m\u001b[0;34m(\u001b[0m\u001b[0;34m)\u001b[0m\u001b[0;34m\u001b[0m\u001b[0m\n",
      "\u001b[0;32m/opt/conda/lib/python3.6/multiprocessing/pool.py\u001b[0m in \u001b[0;36mnext\u001b[0;34m(self, timeout)\u001b[0m\n\u001b[1;32m    722\u001b[0m                 \u001b[0;32mif\u001b[0m \u001b[0mself\u001b[0m\u001b[0;34m.\u001b[0m\u001b[0m_index\u001b[0m \u001b[0;34m==\u001b[0m \u001b[0mself\u001b[0m\u001b[0;34m.\u001b[0m\u001b[0m_length\u001b[0m\u001b[0;34m:\u001b[0m\u001b[0;34m\u001b[0m\u001b[0m\n\u001b[1;32m    723\u001b[0m                     \u001b[0;32mraise\u001b[0m \u001b[0mStopIteration\u001b[0m\u001b[0;34m\u001b[0m\u001b[0m\n\u001b[0;32m--> 724\u001b[0;31m                 \u001b[0mself\u001b[0m\u001b[0;34m.\u001b[0m\u001b[0m_cond\u001b[0m\u001b[0;34m.\u001b[0m\u001b[0mwait\u001b[0m\u001b[0;34m(\u001b[0m\u001b[0mtimeout\u001b[0m\u001b[0;34m)\u001b[0m\u001b[0;34m\u001b[0m\u001b[0m\n\u001b[0m\u001b[1;32m    725\u001b[0m                 \u001b[0;32mtry\u001b[0m\u001b[0;34m:\u001b[0m\u001b[0;34m\u001b[0m\u001b[0m\n\u001b[1;32m    726\u001b[0m                     \u001b[0mitem\u001b[0m \u001b[0;34m=\u001b[0m \u001b[0mself\u001b[0m\u001b[0;34m.\u001b[0m\u001b[0m_items\u001b[0m\u001b[0;34m.\u001b[0m\u001b[0mpopleft\u001b[0m\u001b[0;34m(\u001b[0m\u001b[0;34m)\u001b[0m\u001b[0;34m\u001b[0m\u001b[0m\n",
      "\u001b[0;32m/opt/conda/lib/python3.6/threading.py\u001b[0m in \u001b[0;36mwait\u001b[0;34m(self, timeout)\u001b[0m\n\u001b[1;32m    293\u001b[0m         \u001b[0;32mtry\u001b[0m\u001b[0;34m:\u001b[0m    \u001b[0;31m# restore state no matter what (e.g., KeyboardInterrupt)\u001b[0m\u001b[0;34m\u001b[0m\u001b[0m\n\u001b[1;32m    294\u001b[0m             \u001b[0;32mif\u001b[0m \u001b[0mtimeout\u001b[0m \u001b[0;32mis\u001b[0m \u001b[0;32mNone\u001b[0m\u001b[0;34m:\u001b[0m\u001b[0;34m\u001b[0m\u001b[0m\n\u001b[0;32m--> 295\u001b[0;31m                 \u001b[0mwaiter\u001b[0m\u001b[0;34m.\u001b[0m\u001b[0macquire\u001b[0m\u001b[0;34m(\u001b[0m\u001b[0;34m)\u001b[0m\u001b[0;34m\u001b[0m\u001b[0m\n\u001b[0m\u001b[1;32m    296\u001b[0m                 \u001b[0mgotit\u001b[0m \u001b[0;34m=\u001b[0m \u001b[0;32mTrue\u001b[0m\u001b[0;34m\u001b[0m\u001b[0m\n\u001b[1;32m    297\u001b[0m             \u001b[0;32melse\u001b[0m\u001b[0;34m:\u001b[0m\u001b[0;34m\u001b[0m\u001b[0m\n",
      "\u001b[0;31mKeyboardInterrupt\u001b[0m: "
     ]
    }
   ],
   "source": [
    "from pyspark.ml.classification import RandomForestClassifier\n",
    "rf = RandomForestClassifier(labelCol=\"label\", featuresCol=\"features\")\n",
    "evaluator = BinaryClassificationEvaluator(metricName = 'areaUnderPR')\n",
    "\n",
    "# Create ParamGrid for Cross Validation tuning\n",
    "paramGrid = (ParamGridBuilder()\n",
    "             .addGrid(rf.maxDepth, [2, 4, 8])\n",
    "             .addGrid(rf.maxBins, [12, 24])\n",
    "             .addGrid(rf.numTrees, [10, 25])\n",
    "             .build())\n",
    "\n",
    "# Create 5-fold CrossValidator\n",
    "cv = CrossValidator(estimator=rf, estimatorParamMaps=paramGrid, evaluator=evaluator, numFolds=5)\n",
    "\n",
    "# Run cross validations\n",
    "cvModel = cv.fit(train)\n",
    "trainingSummary = cvModel.summary\n",
    "print('Training set AUC: ' + str(trainingSummary.areaUnderPR))\n",
    "\n",
    "# Use test set to measure the accuracy of our model on new data\n",
    "predictions = cvModel.transform(test)\n",
    "print('Test set AUC: ' + str(evaluator.evaluate(predictions)))\n",
    "\n",
    "# Print best model info\n",
    "cvModel.bestModel"
   ]
  }
 ],
 "metadata": {
  "kernelspec": {
   "display_name": "Python 3",
   "language": "python",
   "name": "python3"
  },
  "language_info": {
   "codemirror_mode": {
    "name": "ipython",
    "version": 3
   },
   "file_extension": ".py",
   "mimetype": "text/x-python",
   "name": "python",
   "nbconvert_exporter": "python",
   "pygments_lexer": "ipython3",
   "version": "3.7.1"
  }
 },
 "nbformat": 4,
 "nbformat_minor": 2
}
